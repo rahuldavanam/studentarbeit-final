{
 "cells": [
  {
   "cell_type": "raw",
   "id": "5d843946-f98b-433c-87c2-27885656d241",
   "metadata": {},
   "source": [
    "Left turn: 14, 29, 20, 23, 1, 61(cancel), 113 (check similarity), 9(y-3.5),,\n",
    "Left turn with signal presence: 0, 45, 47(cancel), 5(-x), 33(cancel), 9,,\n",
    "Right turn: 15, 12, 10(better), 31, 49(cancel), 56, 27,,\n",
    "Right with signal: 6, 8, 19, 21, 22,, 30, 52\n",
    "Straight: 20(-x), 35, 55,, 43, 63(-x)\n",
    "Straight with signal presence:  3, 4, 27, 9, 54(named as 55), 53,, 74, 77\n",
    "Great junction: 41,  \n",
    "Stop sign: 13,, 68(-x), 73\n",
    "One way: 49,   (75-100)"
   ]
  },
  {
   "cell_type": "code",
   "execution_count": 46,
   "id": "52a8ebdf-f07d-4136-9841-dc257d9ee17d",
   "metadata": {},
   "outputs": [],
   "source": [
    "import carla\n",
    "import time\n",
    "\n",
    "# Connect to the CARLA server\n",
    "client = carla.Client('localhost', 2000)\n",
    "client.set_timeout(10.0)\n",
    "\n",
    "# Load the world\n",
    "world = client.get_world()\n",
    "#world = client.load_world('Town04')\n",
    "map = world.get_map()\n",
    "\n",
    "# Load the blueprint library\n",
    "blueprint_library = world.get_blueprint_library()\n",
    "\n",
    "# Select the vehicle blueprint\n",
    "vehicle_bp = blueprint_library.filter('vehicle.lincoln.mkz_2020')[0]\n",
    "\n",
    "# Define the starting point\n",
    "spawn_points = world.get_map().get_spawn_points()\n",
    "spawn_point = spawn_points[165]\n",
    "shifted_spawn_point = carla.Transform(spawn_point.transform(carla.Location(x = 0, y = 0)), \n",
    "                                      spawn_point.rotation)  # You can change the starting point index\n",
    "# Spawn the vehicle at the starting point\n",
    "vehicle = world.spawn_actor(vehicle_bp, shifted_spawn_point)\n",
    "\n",
    "# Enable autopilot\n",
    "#vehicle.set_autopilot(True)\n",
    "\n",
    "# Define the destination point\n",
    "#destination_waypoint = map.get_waypoint(map.get_spawn_points()[4].location)  # Example destination\n",
    "\n",
    "# Function to move spectator with car\n",
    "def move_with_the_car():\n",
    "    spectator = world.get_spectator()\n",
    "    # Here the spectator is being positioned relative to the position of the car - Relative coordinate system\n",
    "    transform = carla.Transform(vehicle.get_transform().transform(carla.Location(x=-6,z=2)), \n",
    "                                vehicle.get_transform().rotation)\n",
    "    spectator.set_transform(transform)\n",
    "\n",
    "move_with_the_car()"
   ]
  },
  {
   "cell_type": "code",
   "execution_count": 43,
   "id": "ea0d3420-bbbc-4e29-81f0-6f309ed5fd31",
   "metadata": {},
   "outputs": [],
   "source": [
    "for actor in world.get_actors().filter('*vehicle*'):\n",
    "    actor.destroy()\n",
    "for sensor in world.get_actors().filter('*sensor*'):\n",
    "    sensor.destroy()"
   ]
  },
  {
   "cell_type": "code",
   "execution_count": 5,
   "id": "08b6baca-47f9-4adf-87a6-f798844e9d18",
   "metadata": {},
   "outputs": [
    {
     "name": "stdout",
     "output_type": "stream",
     "text": [
      "Distance to destination: 70.48 meters\n",
      "Distance to destination: 70.48 meters\n",
      "Distance to destination: 70.48 meters\n",
      "Distance to destination: 70.48 meters\n",
      "Distance to destination: 70.48 meters\n",
      "Distance to destination: 70.48 meters\n",
      "Distance to destination: 70.54 meters\n",
      "Distance to destination: 70.68 meters\n",
      "Distance to destination: 70.87 meters\n",
      "Distance to destination: 71.08 meters\n",
      "Distance to destination: 71.37 meters\n",
      "Distance to destination: 71.72 meters\n",
      "Distance to destination: 72.08 meters\n",
      "Distance to destination: 72.49 meters\n",
      "Distance to destination: 73.01 meters\n",
      "Distance to destination: 73.53 meters\n",
      "Distance to destination: 74.12 meters\n",
      "Distance to destination: 74.72 meters\n",
      "Distance to destination: 75.49 meters\n",
      "Distance to destination: 76.25 meters\n",
      "Distance to destination: 77.10 meters\n",
      "Distance to destination: 77.98 meters\n",
      "Distance to destination: 78.96 meters\n"
     ]
    },
    {
     "ename": "KeyboardInterrupt",
     "evalue": "",
     "output_type": "error",
     "traceback": [
      "\u001b[1;31m---------------------------------------------------------------------------\u001b[0m",
      "\u001b[1;31mKeyboardInterrupt\u001b[0m                         Traceback (most recent call last)",
      "Cell \u001b[1;32mIn[5], line 54\u001b[0m\n\u001b[0;32m     51\u001b[0m             vehicle\u001b[38;5;241m.\u001b[39mset_autopilot(\u001b[38;5;28;01mFalse\u001b[39;00m)\n\u001b[0;32m     52\u001b[0m             \u001b[38;5;28;01mbreak\u001b[39;00m\n\u001b[1;32m---> 54\u001b[0m         \u001b[43mtime\u001b[49m\u001b[38;5;241;43m.\u001b[39;49m\u001b[43msleep\u001b[49m\u001b[43m(\u001b[49m\u001b[38;5;241;43m0.1\u001b[39;49m\u001b[43m)\u001b[49m\n\u001b[0;32m     56\u001b[0m \u001b[38;5;28;01mfinally\u001b[39;00m:\n\u001b[0;32m     57\u001b[0m     \u001b[38;5;28;01mfor\u001b[39;00m actor \u001b[38;5;129;01min\u001b[39;00m world\u001b[38;5;241m.\u001b[39mget_actors()\u001b[38;5;241m.\u001b[39mfilter(\u001b[38;5;124m'\u001b[39m\u001b[38;5;124m*vehicle*\u001b[39m\u001b[38;5;124m'\u001b[39m):\n",
      "\u001b[1;31mKeyboardInterrupt\u001b[0m: "
     ]
    }
   ],
   "source": [
    "import carla\n",
    "import time\n",
    "\n",
    "# Connect to the CARLA server\n",
    "client = carla.Client('localhost', 2000)\n",
    "client.set_timeout(10.0)\n",
    "\n",
    "# Load the world\n",
    "world = client.get_world()\n",
    "map = world.get_map()\n",
    "\n",
    "# Load the blueprint library\n",
    "blueprint_library = world.get_blueprint_library()\n",
    "\n",
    "# Select the vehicle blueprint\n",
    "vehicle_bp = blueprint_library.filter('vehicle.lincoln.mkz_2020')[0]\n",
    "\n",
    "# Define the starting point\n",
    "start_point = map.get_spawn_points()[1]  # You can change the starting point index\n",
    "\n",
    "# Spawn the vehicle at the starting point\n",
    "vehicle = world.spawn_actor(vehicle_bp, start_point)\n",
    "\n",
    "# Enable autopilot\n",
    "vehicle.set_autopilot(True)\n",
    "\n",
    "# Define the destination point\n",
    "destination_waypoint = map.get_waypoint(map.get_spawn_points()[4].location)  # Example destination\n",
    "\n",
    "# Function to move spectator with car\n",
    "def move_with_the_car():\n",
    "    spectator = world.get_spectator()\n",
    "    # Here the spectator is being positioned relative to the position of the car - Relative coordinate system\n",
    "    transform = carla.Transform(vehicle.get_transform().transform(carla.Location(x=-6,z=2)), \n",
    "                                vehicle.get_transform().rotation)\n",
    "    spectator.set_transform(transform)\n",
    "\n",
    "# Monitor the car's journey and move the spectator along with the car (optional)\n",
    "try:\n",
    "    while True:\n",
    "        vehicle_location = vehicle.get_location()\n",
    "        move_with_the_car()  # Move the spectator with the vehicle\n",
    "\n",
    "        # Check if the vehicle has reached the destination\n",
    "        distance_to_destination = vehicle_location.distance(destination_waypoint.transform.location)\n",
    "        print(f\"Distance to destination: {distance_to_destination:.2f} meters\")\n",
    "\n",
    "        # If the vehicle is within a small threshold of the destination, stop the autopilot\n",
    "        if distance_to_destination < 5.0:  # You can adjust the threshold as needed\n",
    "            print(\"Destination reached!\")\n",
    "            vehicle.set_autopilot(False)\n",
    "            break\n",
    "\n",
    "        time.sleep(0.1)\n",
    "\n",
    "finally:\n",
    "    for actor in world.get_actors().filter('*vehicle*'):\n",
    "        actor.destroy()\n",
    "    for sensor in world.get_actors().filter('*sensor*'):\n",
    "\n",
    "        sensor.destroy()"
   ]
  },
  {
   "cell_type": "code",
   "execution_count": 1,
   "id": "7d872003-4d0f-4351-a952-07208562e1fe",
   "metadata": {},
   "outputs": [
    {
     "name": "stdout",
     "output_type": "stream",
     "text": [
      "All traffic lights and stop signs removed.\n"
     ]
    }
   ],
   "source": [
    "import carla\n",
    "import time\n",
    "\n",
    "# Connect to the CARLA server\n",
    "client = carla.Client('localhost', 2000)\n",
    "client.set_timeout(10.0)\n",
    "\n",
    "# Load the world\n",
    "world = client.get_world()\n",
    "\n",
    "# Remove all traffic lights and stop signs\n",
    "for actor in world.get_actors():\n",
    "    if 'traffic_light' in actor.type_id or 'traffic_sign' in actor.type_id:\n",
    "        actor.destroy()\n",
    "\n",
    "print(\"All traffic lights and stop signs removed.\")"
   ]
  }
 ],
 "metadata": {
  "kernelspec": {
   "display_name": "Python 3 (ipykernel)",
   "language": "python",
   "name": "python3"
  },
  "language_info": {
   "codemirror_mode": {
    "name": "ipython",
    "version": 3
   },
   "file_extension": ".py",
   "mimetype": "text/x-python",
   "name": "python",
   "nbconvert_exporter": "python",
   "pygments_lexer": "ipython3",
   "version": "3.8.19"
  }
 },
 "nbformat": 4,
 "nbformat_minor": 5
}
