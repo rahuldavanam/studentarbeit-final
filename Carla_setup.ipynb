{
 "cells": [
  {
   "cell_type": "markdown",
   "id": "bbbbaeef",
   "metadata": {},
   "source": [
    "# Setting up the Carla system"
   ]
  },
  {
   "cell_type": "raw",
   "id": "b439593c",
   "metadata": {},
   "source": [
    "# Important to note that the client library version must match the server library version\n",
    "!pip install carla==0.9.14 # use pip 22 and 3.7 python\n",
    "!pip install opencv-python\n",
    "!pip install numpy"
   ]
  },
  {
   "cell_type": "raw",
   "id": "93347d8b",
   "metadata": {},
   "source": [
    "class ABC:\n",
    "    img = None\n",
    "    \n",
    "    def move_with_the_car():\n",
    "        spectator = world.get_spectator()\n",
    "\n",
    "        # Here the spectator is being positioned relative to the position of the car - Relative coordinate system\n",
    "        transform = carla.Transform(vehicle.get_transform().transform(carla.Location(x=-6,z=2)), \n",
    "                                    vehicle.get_transform().rotation)\n",
    "        spectator.set_transform(transform)\n",
    "abc = ABC()"
   ]
  },
  {
   "cell_type": "code",
   "execution_count": 1,
   "id": "e11845a3-3712-445c-9d98-db82c75c897e",
   "metadata": {},
   "outputs": [],
   "source": [
    "# Importing relevant libraries\n",
    "import math\n",
    "import random\n",
    "import time\n",
    "import glob\n",
    "import os\n",
    "import sys\n",
    "import numpy as np\n",
    "#import cv2\n",
    "import carla"
   ]
  },
  {
   "cell_type": "raw",
   "id": "b78fde07",
   "metadata": {},
   "source": [
    "# It is trying to find carla .egg file, which is going to be imported in the code\n",
    "# But as an alternative, I have installed carla library from pip\n",
    "\n",
    "try:\n",
    "    sys.path.append(glob.glob('../carla/dist/carla-*%d.%d-%s.egg' % (\n",
    "        sys.version_info.major,\n",
    "        sys.version_info.minor,\n",
    "        'win-amd64' if os.name == 'nt' else 'linux-x86_64'))[0])\n",
    "except IndexError:\n",
    "    pass"
   ]
  },
  {
   "cell_type": "markdown",
   "id": "0d4e8ebe",
   "metadata": {},
   "source": [
    "### Establishing client and server connection and calling the blueprint"
   ]
  },
  {
   "cell_type": "code",
   "execution_count": 2,
   "id": "c446d9b5",
   "metadata": {},
   "outputs": [
    {
     "ename": "RuntimeError",
     "evalue": "time-out of 5000ms while waiting for the simulator, make sure the simulator is ready and connected to localhost:2000",
     "output_type": "error",
     "traceback": [
      "\u001b[1;31m---------------------------------------------------------------------------\u001b[0m",
      "\u001b[1;31mRuntimeError\u001b[0m                              Traceback (most recent call last)",
      "Cell \u001b[1;32mIn[2], line 5\u001b[0m\n\u001b[0;32m      2\u001b[0m client \u001b[38;5;241m=\u001b[39m carla\u001b[38;5;241m.\u001b[39mClient(\u001b[38;5;124m'\u001b[39m\u001b[38;5;124mlocalhost\u001b[39m\u001b[38;5;124m'\u001b[39m, \u001b[38;5;241m2000\u001b[39m)\n\u001b[0;32m      4\u001b[0m \u001b[38;5;66;03m# Load a new map if you want to\u001b[39;00m\n\u001b[1;32m----> 5\u001b[0m world \u001b[38;5;241m=\u001b[39m \u001b[43mclient\u001b[49m\u001b[38;5;241;43m.\u001b[39;49m\u001b[43mload_world\u001b[49m\u001b[43m(\u001b[49m\u001b[38;5;124;43m'\u001b[39;49m\u001b[38;5;124;43mTown04\u001b[39;49m\u001b[38;5;124;43m'\u001b[39;49m\u001b[43m)\u001b[49m\n",
      "\u001b[1;31mRuntimeError\u001b[0m: time-out of 5000ms while waiting for the simulator, make sure the simulator is ready and connected to localhost:2000"
     ]
    }
   ],
   "source": [
    "# Connects the client with the server\n",
    "client = carla.Client('localhost', 2000)\n",
    "\n",
    "# Load a new map if you want to\n",
    "world = client.load_world('Town04') # Set the fog=0 for this map\n",
    "#world = client.load_world('Town06')"
   ]
  },
  {
   "cell_type": "code",
   "execution_count": 8,
   "id": "daf786f3-2f7c-42c8-82fb-6e9c1c281b80",
   "metadata": {},
   "outputs": [],
   "source": [
    "world = client.get_world()\n",
    "\n",
    "weather = world.get_weather()\n",
    "weather.cloudiness = 100\n",
    "weather.fog_density = 0\n",
    "world.set_weather(weather)\n",
    "\n",
    "# Retrieve all traffic light actors in the world\n",
    "traffic_lights = world.get_actors().filter(\"traffic.traffic_light*\")\n",
    "\n",
    "# Disable all traffic lights by setting them to green permanently\n",
    "for traffic_light in traffic_lights:\n",
    "    traffic_light.set_state(carla.TrafficLightState.Green)\n",
    "    traffic_light.set_green_time(100000)  # Set a long green duration to effectively disable"
   ]
  },
  {
   "cell_type": "code",
   "execution_count": 24,
   "id": "139e837d-1410-42b4-930f-70f314dcdbfb",
   "metadata": {},
   "outputs": [],
   "source": [
    "world = client.get_world()\n",
    "weather = world.get_weather()\n",
    "weather = carla.WeatherParameters(\n",
    "    cloudiness=50.0,              # Cloud cover percentage (0.0 to 100.0)\n",
    "    precipitation=30.0,           # Rain intensity percentage (0.0 to 100.0)\n",
    "    precipitation_deposits=20.0,  # Water accumulation on surfaces (0.0 to 100.0)\n",
    "    wind_intensity=10.0,          # Wind intensity percentage (0.0 to 100.0)\n",
    "    sun_altitude_angle=45.0,      # Sun height relative to the horizon (-90.0 to 90.0)\n",
    "    sun_azimuth_angle=90.0,       # Sun position on the horizontal plane (0.0 to 360.0)\n",
    "    fog_density=20.0,             # Fog density percentage (0.0 to 100.0)\n",
    "    fog_distance=100.0,           # Fog start distance in meters\n",
    "    fog_falloff=2.0,              # Rate at which fog density increases\n",
    "    scattering_intensity=1.0,     # Light scattering intensity\n",
    "    mie_scattering_scale=0.5,     # Scattering caused by atmospheric particles\n",
    "    rayleigh_scattering_scale=0.03,  # Scattering that affects sky color\n",
    "    wetness=40.0,                 # Wetness of surfaces (0.0 to 100.0)\n",
    "    ice_thickness=0.0,            # Thickness of ice on surfaces (0.0 to 100.0)\n",
    "    snow_amount=10.0,             # Intensity of snowfall (0.0 to 100.0)\n",
    "    snow_puddles=5.0,             # Water puddles from melted snow (0.0 to 100.0)\n",
    "    snow_depth=8.0                # Depth of accumulated snow (0.0 to 100.0)\n",
    ")\n",
    "world.set_weather(weather)"
   ]
  },
  {
   "cell_type": "code",
   "execution_count": 4,
   "id": "1411feed",
   "metadata": {},
   "outputs": [],
   "source": [
    "# Creates a world object to represent the simulation and act as an abstract layer containing the methods to spawn actors\n",
    "# World object gets destroyed when loading a new map\n",
    "world = client.get_world()"
   ]
  },
  {
   "cell_type": "raw",
   "id": "114f9f06",
   "metadata": {},
   "source": [
    "# Get the map name\n",
    "town_map = world.get_map()\n",
    "print(town_map)"
   ]
  },
  {
   "cell_type": "code",
   "execution_count": 4,
   "id": "2f37239e",
   "metadata": {},
   "outputs": [],
   "source": [
    "# Retrieving the blueprint library to access the blueprint\n",
    "bp_lib = world.get_blueprint_library()\n",
    "\n",
    "# Obtaining the spawn points\n",
    "spawn_points = world.get_map().get_spawn_points()\n",
    "\n",
    "# FYI - to get random location of pedestrians\n",
    "# sidewalk = world.get_random_location()"
   ]
  },
  {
   "cell_type": "code",
   "execution_count": 5,
   "id": "cf83735e",
   "metadata": {},
   "outputs": [
    {
     "name": "stdout",
     "output_type": "stream",
     "text": [
      "ActorBlueprint(id=vehicle.nissan.micra,tags=[vehicle, nissan, micra])\n"
     ]
    }
   ],
   "source": [
    "print(bp_lib[0])"
   ]
  },
  {
   "cell_type": "code",
   "execution_count": 7,
   "id": "7600c9be",
   "metadata": {},
   "outputs": [
    {
     "data": {
      "text/plain": [
       "155"
      ]
     },
     "execution_count": 7,
     "metadata": {},
     "output_type": "execute_result"
    }
   ],
   "source": [
    "len(spawn_points)"
   ]
  },
  {
   "cell_type": "markdown",
   "id": "5c4c7502-37f2-49ec-aad4-daaa26235d18",
   "metadata": {},
   "source": [
    "### Tweaking the weather"
   ]
  },
  {
   "cell_type": "code",
   "execution_count": 10,
   "id": "87ca801a-a18a-413e-bcc8-55d79edcc5a8",
   "metadata": {},
   "outputs": [],
   "source": [
    "# Add Fog\n",
    "weather = world.get_weather()\n",
    "#weather.sun_altitude_angle = 100\n",
    "weather.fog_density = 50\n",
    "world.set_weather(weather)"
   ]
  },
  {
   "cell_type": "code",
   "execution_count": null,
   "id": "eef1a18e-7304-468b-956a-7e7c748ef4e0",
   "metadata": {},
   "outputs": [],
   "source": []
  },
  {
   "cell_type": "markdown",
   "id": "065c4207",
   "metadata": {},
   "source": [
    "### Spawning a car"
   ]
  },
  {
   "cell_type": "code",
   "execution_count": 11,
   "id": "3ba38eb1-3dec-4679-a8c0-fb1f429db215",
   "metadata": {},
   "outputs": [
    {
     "ename": "NameError",
     "evalue": "name 'spawn_points' is not defined",
     "output_type": "error",
     "traceback": [
      "\u001b[1;31m---------------------------------------------------------------------------\u001b[0m",
      "\u001b[1;31mNameError\u001b[0m                                 Traceback (most recent call last)",
      "Cell \u001b[1;32mIn[11], line 3\u001b[0m\n\u001b[0;32m      1\u001b[0m \u001b[38;5;66;03m# Obtaining a vehicle from thhe blueprint and spawning it in one of the pre-defined spawn points\u001b[39;00m\n\u001b[0;32m      2\u001b[0m actor_list \u001b[38;5;241m=\u001b[39m []  \u001b[38;5;66;03m# Creates a list of actors spawned on the map\u001b[39;00m\n\u001b[1;32m----> 3\u001b[0m spawn_point \u001b[38;5;241m=\u001b[39m \u001b[43mspawn_points\u001b[49m[\u001b[38;5;241m0\u001b[39m]\n\u001b[0;32m      4\u001b[0m vehicle_bp \u001b[38;5;241m=\u001b[39m bp_lib\u001b[38;5;241m.\u001b[39mfind(\u001b[38;5;124m'\u001b[39m\u001b[38;5;124mvehicle.lincoln.mkz_2020\u001b[39m\u001b[38;5;124m'\u001b[39m)\n\u001b[0;32m      5\u001b[0m shifted_spawn_point \u001b[38;5;241m=\u001b[39m carla\u001b[38;5;241m.\u001b[39mTransform(spawn_point\u001b[38;5;241m.\u001b[39mtransform(carla\u001b[38;5;241m.\u001b[39mLocation(x \u001b[38;5;241m=\u001b[39m \u001b[38;5;241m0\u001b[39m)), \n\u001b[0;32m      6\u001b[0m                            spawn_point\u001b[38;5;241m.\u001b[39mrotation)\n",
      "\u001b[1;31mNameError\u001b[0m: name 'spawn_points' is not defined"
     ]
    }
   ],
   "source": [
    "# Obtaining a vehicle from thhe blueprint and spawning it in one of the pre-defined spawn points\n",
    "actor_list = []  # Creates a list of actors spawned on the map\n",
    "spawn_point = spawn_points[0]\n",
    "vehicle_bp = bp_lib.find('vehicle.lincoln.mkz_2020')\n",
    "shifted_spawn_point = carla.Transform(spawn_point.transform(carla.Location(x = 0)), \n",
    "                           spawn_point.rotation)\n",
    "vehicle = world.spawn_actor(vehicle_bp, shifted_spawn_point)\n",
    "actor_list.append(vehicle)\n",
    "\n",
    "# To control the car\n",
    "# vehicle.apply_control(carla.VehicleControl(throttle=1.0, steer=0.0))"
   ]
  },
  {
   "cell_type": "code",
   "execution_count": 11,
   "id": "acb779e7",
   "metadata": {},
   "outputs": [
    {
     "name": "stdout",
     "output_type": "stream",
     "text": [
      "Transform(Location(x=106.416290, y=-12.711931, z=0.599999), Rotation(pitch=0.000000, yaw=-89.609253, roll=0.000000))\n"
     ]
    }
   ],
   "source": [
    "# Printing the 1st spawn point which is also the car's spawn point\n",
    "print(spawn_points[0])"
   ]
  },
  {
   "cell_type": "code",
   "execution_count": 12,
   "id": "47622e8e",
   "metadata": {},
   "outputs": [
    {
     "name": "stdout",
     "output_type": "stream",
     "text": [
      "Transform(Location(x=106.416290, y=-12.711931, z=0.577559), Rotation(pitch=0.000000, yaw=-89.609253, roll=0.000000))\n"
     ]
    }
   ],
   "source": [
    "# Retrieving the vehicle position and printing it\n",
    "# Transform must not be confused with any type of transformation. It only deals with the position of the object\n",
    "vehicle_pos = vehicle.get_transform()\n",
    "print(vehicle_pos)"
   ]
  },
  {
   "cell_type": "markdown",
   "id": "7f33e969",
   "metadata": {},
   "source": [
    "### Setting spectator to position relative to the car"
   ]
  },
  {
   "cell_type": "code",
   "execution_count": 6,
   "id": "f13d52ea-a9d3-4cd6-b308-b5e1768d9773",
   "metadata": {},
   "outputs": [],
   "source": [
    "# Retrieve the spectator object\n",
    "spectator = world.get_spectator()\n",
    "\n",
    "# Here the spectator is being positioned relative to the position of the car - Relative coordinate system\n",
    "transform = carla.Transform(vehicle.get_transform().transform(carla.Location(x=-6,z=2)), \n",
    "                            vehicle.get_transform().rotation)\n",
    "\n",
    "# Alternate method of defining transform position - Absolute coordinate\n",
    "# transform = carla.Transform(vehicle_pos.location + carla.Location(y=6,z=2),\n",
    "#                             carla.Rotation(yaw = vehicle_pos.rotation.yaw - 0))\n",
    "spectator.set_transform(transform)"
   ]
  },
  {
   "cell_type": "code",
   "execution_count": 10,
   "id": "b0c3eccb",
   "metadata": {},
   "outputs": [],
   "source": [
    "class ABC:\n",
    "    img = None\n",
    "abc = ABC()"
   ]
  },
  {
   "cell_type": "raw",
   "id": "d1ea8a96",
   "metadata": {},
   "source": [
    "def move_with_the_car():\n",
    "        spectator = world.get_spectator()\n",
    "        # Here the spectator is being positioned relative to the position of the car - Relative coordinate system\n",
    "        transform = carla.Transform(vehicle.get_transform().transform(carla.Location(x=-6,z=2)), \n",
    "                                    vehicle.get_transform().rotation)\n",
    "        spectator.set_transform(transform)"
   ]
  },
  {
   "cell_type": "markdown",
   "id": "46ed1d83",
   "metadata": {},
   "source": [
    "### Spawning a camera and attaching it to the car"
   ]
  },
  {
   "cell_type": "code",
   "execution_count": 12,
   "id": "7ccf2c95",
   "metadata": {},
   "outputs": [],
   "source": [
    "IM_WIDTH = 224\n",
    "IM_HEIGHT = 224\n",
    "\n",
    "# Defining a function where you're using Open CV to be able to see the camera's pov in real time\n",
    "def process_img(image):\n",
    "    i = np.array(image.raw_data)  # Convert image to array\n",
    "    i2 = i.reshape((IM_HEIGHT, IM_WIDTH, 4))  # Reshape the flattened array into the image shape\n",
    "    i3 = i2[:, :, :3]   # Removing the alpha\n",
    "    abc.img = i3"
   ]
  },
  {
   "cell_type": "code",
   "execution_count": 13,
   "id": "87b78a95-bbbc-4f2e-a3df-854620f15ea4",
   "metadata": {},
   "outputs": [],
   "source": [
    "# Retrieves the RGB camera object\n",
    "camera_bp = bp_lib.find('sensor.camera.rgb')\n",
    "\n",
    "# Setting image attributes\n",
    "camera_bp.set_attribute(\"image_size_x\", f\"{IM_WIDTH}\")\n",
    "camera_bp.set_attribute(\"image_size_y\", f\"{IM_HEIGHT}\")\n",
    "camera_bp.set_attribute(\"fov\", \"110\")\n",
    "\n",
    "# Adjust camera sensor relative to the car\n",
    "# This position will be given relative to the object attached to it\n",
    "camera_init_transform = carla.Transform(carla.Location(x=0.7,z=1.5))\n",
    "\n",
    "# Spawn the sensor and attach it to the vehicle\n",
    "camera = world.spawn_actor(camera_bp, camera_init_transform, attach_to=vehicle)\n",
    "actor_list.append(camera)\n",
    "\n",
    "# Calls \"listening\" attribute of the camera to record the images and save them in a folder\n",
    "# Method 1: Watch the POV live\n",
    "camera.listen(lambda data: process_img(data))\n",
    "\n",
    "# Method 2: - save to disk directly\n",
    "# camera.listen(lambda image: image.save_to_disk('output/%06d.png' % image.frame))\n",
    "# camera.listen(lambda image : print(image.frame))"
   ]
  },
  {
   "cell_type": "code",
   "execution_count": 14,
   "id": "7c657d4a",
   "metadata": {},
   "outputs": [
    {
     "data": {
      "image/png": "[encoded data removed]",
      "text/plain": [
       "<PIL.Image.Image image mode=RGB size=224x224>"
      ]
     },
     "execution_count": 14,
     "metadata": {},
     "output_type": "execute_result"
    }
   ],
   "source": [
    "from PIL import Image\n",
    "from matplotlib import cm\n",
    "# im = Image.fromarray(np.uint8(cm.gist_earth(myarray)*255))\n",
    "\n",
    "Image.fromarray(abc.img)"
   ]
  },
  {
   "cell_type": "code",
   "execution_count": 15,
   "id": "8ea68417",
   "metadata": {},
   "outputs": [],
   "source": [
    "camera.stop()"
   ]
  },
  {
   "cell_type": "raw",
   "id": "e97e295b",
   "metadata": {},
   "source": [
    "carla.VehicleControl(throttle = 0.0,steer = 0.0,brake = 0.0,hand_brake = False\n",
    "    reverse = False,manual_gear_shift = False,gear = 0)"
   ]
  },
  {
   "cell_type": "code",
   "execution_count": 24,
   "id": "02212b33",
   "metadata": {},
   "outputs": [],
   "source": [
    "vehicle.apply_control(carla.VehicleControl(throttle=0.6, steer=0.0,reverse =False))"
   ]
  },
  {
   "cell_type": "markdown",
   "id": "5f069dab",
   "metadata": {},
   "source": [
    "### Cleaning up after your work - destroying all actors"
   ]
  },
  {
   "cell_type": "code",
   "execution_count": null,
   "id": "10293674",
   "metadata": {},
   "outputs": [],
   "source": [
    "# Method 1\n",
    "for actor in actor_list:\n",
    "    actor.destroy()"
   ]
  },
  {
   "cell_type": "code",
   "execution_count": null,
   "id": "52d6888c",
   "metadata": {},
   "outputs": [],
   "source": [
    "# Method 2\n",
    "# Utility code to destroy actors\n",
    "for actor in world.get_actors().filter('*vehicle*'):\n",
    "    actor.destroy()\n",
    "for sensor in world.get_actors().filter('*sensor*'):\n",
    "    sensor.destroy()"
   ]
  },
  {
   "cell_type": "markdown",
   "id": "e37f92c0",
   "metadata": {},
   "source": [
    "### Spawning a few number cars at random points and setting them into autopilot mode"
   ]
  },
  {
   "cell_type": "code",
   "execution_count": null,
   "id": "cefe91a9-64f5-4021-ba6b-42bc8bf11f4b",
   "metadata": {},
   "outputs": [],
   "source": [
    "# Spawns other vehicles at random places\n",
    "for i in range(30):\n",
    "    vehicle_bp = random.choice(bp_lib.filter('vehicle'))\n",
    "    npc = world.try_spawn_actor(vehicle_bp, random.choice(spawn_points))"
   ]
  },
  {
   "cell_type": "code",
   "execution_count": null,
   "id": "15fde658-e8b7-49ed-89c0-b93c049f0ecc",
   "metadata": {},
   "outputs": [],
   "source": [
    "# Sets all vehicles to autopilot mode\n",
    "for v in world.get_actors().filter('*vehicle*'):\n",
    "    v.set_autopilot(True)"
   ]
  },
  {
   "cell_type": "code",
   "execution_count": null,
   "id": "e3c449a5-ed7a-4d68-acfd-13c41d3d03c6",
   "metadata": {},
   "outputs": [],
   "source": [
    "camera.stop()"
   ]
  },
  {
   "cell_type": "code",
   "execution_count": null,
   "id": "d8a77c19-f378-4adf-a233-e835e5be7ce0",
   "metadata": {},
   "outputs": [],
   "source": [
    "# Utility code to destroy actors\n",
    "for actor in world.get_actors().filter('*vehicle*'):\n",
    "    actor.destroy()\n",
    "for sensor in world.get_actors().filter('*sensor*'):\n",
    "    sensor.destroy()"
   ]
  },
  {
   "cell_type": "markdown",
   "id": "98c5eb5d",
   "metadata": {},
   "source": [
    "### Setting up a semantic segmentation camera"
   ]
  },
  {
   "cell_type": "code",
   "execution_count": null,
   "id": "139066c6-d243-41d6-a331-27a087a6b95f",
   "metadata": {},
   "outputs": [],
   "source": [
    "# usual - spaw a car and set Autopilot on\n",
    "vehicle_bp = world.get_blueprint_library().filter('*model3*')\n",
    "start_point = spawn_points[0]\n",
    "vehicle = world.spawn_actor(vehicle_bp[0], start_point)\n",
    "vehicle.set_autopilot(True)\n",
    "\n",
    "#camera mount offset on the car - you can tweak these to each car to avoid any parts of the car being in the view\n",
    "CAMERA_POS_Z = 1.6 #this means 1.6m up from the ground\n",
    "CAMERA_POS_X = 0.9 #this is 0.9m forward\n",
    "\n",
    "#semantic camera\n",
    "camera_bp = world.get_blueprint_library().find('sensor.camera.semantic_segmentation')\n",
    "camera_bp.set_attribute('image_size_x', '640') # this ratio works in CARLA 9.14 on Windows\n",
    "camera_bp.set_attribute('image_size_y', '360')\n",
    "camera_init_trans = carla.Transform(carla.Location(x=CAMERA_POS_X,z=CAMERA_POS_Z))\n",
    "camera_sem = world.spawn_actor(camera_bp,camera_init_trans,attach_to=vehicle)\n",
    "\n",
    "def sem_callback(image,data_dict):\n",
    "    ########## IMPORTANT CHANGE for Semantic camera ##############\n",
    "    image.convert(carla.ColorConverter.CityScapesPalette)\n",
    "    data_dict['sem_image'] = np.reshape(np.copy(image.raw_data),(image.height,image.width,4))\n",
    "    # The RGB camera is technically the RGBA camera, where is alpha which gives you information about that pixel\n",
    "    i3 = data_dict['sem_image'][:, :, :3]   # Removing the alpha\n",
    "    cv2.imshow(\"\", i3)  # Display the image\n",
    "    cv2.waitKey(1)\n",
    "    return i3  # Normalising the data\n",
    "    \n",
    "image_w = 640\n",
    "image_h = 360\n",
    "\n",
    "camera_data = {'sem_image': np.zeros((image_h,image_w,4))}\n",
    "\n",
    "# this actually opens a live stream from the cameras\n",
    "camera_sem.listen(lambda image: sem_callback(image,camera_data))"
   ]
  },
  {
   "cell_type": "code",
   "execution_count": null,
   "id": "af1ac947",
   "metadata": {},
   "outputs": [],
   "source": [
    "camera_sem.stop()"
   ]
  },
  {
   "cell_type": "code",
   "execution_count": null,
   "id": "0bbbc5f5",
   "metadata": {},
   "outputs": [],
   "source": [
    "# Save the images with acc and steer data using the save_to_disk attribute\n",
    "# Save the acc and break data in a CSV/Excel file and then use this data to save it to its corresponding image\n",
    "# You can display the acc and steer value on the image if you would like to\n",
    "# Do it by using # camera.listen(lambda image: image.save_to_disk('output/%06d.png' % image.frame, f{ACC_DATA,}, f{BREAK_DATA}))"
   ]
  },
  {
   "cell_type": "markdown",
   "id": "1e100bf3-2452-458c-a362-cdd1a6c692b7",
   "metadata": {},
   "source": [
    "## Listing all attributes of carla.CityObjectLabel"
   ]
  },
  {
   "cell_type": "code",
   "execution_count": 6,
   "id": "e842a4c9-bb23-4075-bd82-7cb93010fbac",
   "metadata": {},
   "outputs": [
    {
     "name": "stdout",
     "output_type": "stream",
     "text": [
      "['Any', 'Bicycle', 'Bridge', 'Buildings', 'Bus', 'Car', 'Dynamic', 'Fences', 'Ground', 'GuardRail', 'Motorcycle', 'NONE', 'Other', 'Pedestrians', 'Poles', 'RailTrack', 'Rider', 'RoadLines', 'Roads', 'Sidewalks', 'Sky', 'Static', 'Terrain', 'TrafficLight', 'TrafficSigns', 'Train', 'Truck', 'Vegetation', 'Walls', 'Water', 'as_integer_ratio', 'bit_length', 'conjugate', 'denominator', 'from_bytes', 'imag', 'name', 'names', 'numerator', 'real', 'to_bytes', 'values']\n"
     ]
    }
   ],
   "source": [
    "import carla\n",
    "\n",
    "# List all attributes of CityObjectLabel\n",
    "labels = dir(carla.CityObjectLabel)\n",
    "\n",
    "# Filter out special/magic attributes (those starting with \"__\")\n",
    "labels = [label for label in labels if not label.startswith(\"__\")]\n",
    "\n",
    "# Display the labels\n",
    "print(labels)"
   ]
  },
  {
   "cell_type": "markdown",
   "id": "9c7c54f7-4438-4100-a70d-1285f2b56a48",
   "metadata": {},
   "source": [
    "## Toggle buildings and other details"
   ]
  },
  {
   "cell_type": "code",
   "execution_count": 2,
   "id": "a61bd81f-71ec-441a-ab4c-78362ec3b245",
   "metadata": {},
   "outputs": [
    {
     "name": "stdout",
     "output_type": "stream",
     "text": [
      "Toggled all objects for label: Buildings\n",
      "Toggled all objects for label: TrafficLight\n",
      "Toggled all objects for label: Car\n",
      "Toggled all objects for label: Vegetation\n",
      "Label 'Railtrack' not found in CityObjectLabel.\n",
      "Toggled all objects for label: Motorcycle\n",
      "Toggled all objects for label: Other\n"
     ]
    }
   ],
   "source": [
    "import carla\n",
    "\n",
    "# Connect to the CARLA server\n",
    "client = carla.Client('localhost', 2000)\n",
    "client.set_timeout(5.0)\n",
    "world = client.get_world()\n",
    "\n",
    "# List of environment objects you want to check for and toggle off\n",
    "object_labels = [\"Buildings\",  \"TrafficLight\", \"Car\", \"Vegetation\", \"Railtrack\", \"Motorcycle\", \"Other\"]\n",
    "\n",
    "# Loop through the labels and toggle objects off if the label exists\n",
    "for label in object_labels:\n",
    "    if hasattr(carla.CityObjectLabel, label):\n",
    "        # Get all environment objects for this label\n",
    "        env_objects = world.get_environment_objects(getattr(carla.CityObjectLabel, label))\n",
    "        \n",
    "        # Collect object IDs to toggle\n",
    "        objects_to_toggle = {obj.id for obj in env_objects}\n",
    "        \n",
    "        # Toggle the objects off\n",
    "        world.enable_environment_objects(objects_to_toggle, True)\n",
    "\n",
    "        # Alternatively toggle on the objects\n",
    "        #world.enable_environment_objects(objects_to_toggle, True)\n",
    "        print(f\"Toggled all objects for label: {label}\")\n",
    "    else:\n",
    "        print(f\"Label '{label}' not found in CityObjectLabel.\")"
   ]
  },
  {
   "cell_type": "code",
   "execution_count": 29,
   "id": "d0c4e633-05a1-4b72-b435-da90ec2dfda1",
   "metadata": {},
   "outputs": [],
   "source": [
    "import carla\n",
    "\n",
    "# Connect to the CARLA server\n",
    "client = carla.Client('localhost', 2000)\n",
    "client.set_timeout(10.0)\n",
    "\n",
    "# Get the world\n",
    "world = client.get_world()\n",
    "\n",
    "# Get the details in the world\n",
    "env_objs = world.get_environment_objects(carla.CityObjectLabel.Other)\n",
    "\n",
    "# Access individual IDs and save in a set\n",
    "#building_01 = env_objs[0]\n",
    "#building_02 = env_objs[1]\n",
    "#objects_to_toggle = {building_01.id, building_02.id}\n",
    "objects_to_toggle = {obj.id for obj in env_objs}\n",
    "\n",
    "# Toggle details off\n",
    "world.enable_environment_objects(objects_to_toggle, False)\n",
    "\n",
    "# Toggle buildings on\n",
    "#world.enable_environment_objects(objects_to_toggle, True)"
   ]
  },
  {
   "cell_type": "markdown",
   "id": "f9a28149-ac8c-4dee-8320-bb8802d8a4d6",
   "metadata": {},
   "source": [
    "## Toggle traffic signal"
   ]
  },
  {
   "cell_type": "code",
   "execution_count": 2,
   "id": "a50e3a4b-e9cf-4a92-b306-1e868599921b",
   "metadata": {},
   "outputs": [
    {
     "ename": "AttributeError",
     "evalue": "type object 'CityObjectLabel' has no attribute 'TrafficLights'",
     "output_type": "error",
     "traceback": [
      "\u001b[1;31m---------------------------------------------------------------------------\u001b[0m",
      "\u001b[1;31mAttributeError\u001b[0m                            Traceback (most recent call last)",
      "Cell \u001b[1;32mIn[2], line 2\u001b[0m\n\u001b[0;32m      1\u001b[0m \u001b[38;5;66;03m# Get all traffic signals in the CARLA world\u001b[39;00m\n\u001b[1;32m----> 2\u001b[0m traffic_signals \u001b[38;5;241m=\u001b[39m world\u001b[38;5;241m.\u001b[39mget_environment_objects(\u001b[43mcarla\u001b[49m\u001b[38;5;241;43m.\u001b[39;49m\u001b[43mCityObjectLabel\u001b[49m\u001b[38;5;241;43m.\u001b[39;49m\u001b[43mTrafficLights\u001b[49m)\n\u001b[0;32m      4\u001b[0m \u001b[38;5;66;03m# Create a set of traffic signal IDs to toggle\u001b[39;00m\n\u001b[0;32m      5\u001b[0m signals_to_toggle \u001b[38;5;241m=\u001b[39m {signal\u001b[38;5;241m.\u001b[39mid \u001b[38;5;28;01mfor\u001b[39;00m signal \u001b[38;5;129;01min\u001b[39;00m traffic_signals}\n",
      "\u001b[1;31mAttributeError\u001b[0m: type object 'CityObjectLabel' has no attribute 'TrafficLights'"
     ]
    }
   ],
   "source": [
    "# Get all traffic signals in the CARLA world\n",
    "traffic_signals = world.get_environment_objects(carla.CityObjectLabel.TrafficLight)\n",
    "\n",
    "# Create a set of traffic signal IDs to toggle\n",
    "signals_to_toggle = {signal.id for signal in traffic_signals}\n",
    "\n",
    "# Toggle traffic signals off (invisible)\n",
    "world.enable_environment_objects(signals_to_toggle, False)\n",
    "\n",
    "# To toggle them back on (visible), you can use:\n",
    "# world.enable_environment_objects(signals_to_toggle, True)"
   ]
  },
  {
   "cell_type": "markdown",
   "id": "8cd26abe-0af4-4e75-a630-904eec710735",
   "metadata": {},
   "source": [
    "## Destorying signals"
   ]
  },
  {
   "cell_type": "code",
   "execution_count": null,
   "id": "38eb17a6-264c-4c30-9bdd-14a6c8dd8a52",
   "metadata": {},
   "outputs": [],
   "source": [
    "import carla\n",
    "\n",
    "# Connect to the CARLA server\n",
    "client = carla.Client('localhost', 2000)\n",
    "client.set_timeout(10.0)\n",
    "\n",
    "# Get the world\n",
    "world = client.get_world()\n",
    "\n",
    "# Remove all traffic lights and stop signs\n",
    "for actor in world.get_actors():\n",
    "    if 'traffic_light' in actor.type_id or 'traffic_sign' in actor.type_id:\n",
    "        actor.destroy()\n",
    "\n",
    "print(\"All traffic lights and stop signs removed.\")"
   ]
  },
  {
   "cell_type": "markdown",
   "id": "f42bc9c8-8be3-4405-94c9-ebfa43457ee1",
   "metadata": {},
   "source": [
    "## Setting signal to always display green"
   ]
  },
  {
   "cell_type": "code",
   "execution_count": 3,
   "id": "4934580b-0b67-4fa3-a772-f7294a997c76",
   "metadata": {},
   "outputs": [
    {
     "ename": "NameError",
     "evalue": "name 'world' is not defined",
     "output_type": "error",
     "traceback": [
      "\u001b[1;31m---------------------------------------------------------------------------\u001b[0m",
      "\u001b[1;31mNameError\u001b[0m                                 Traceback (most recent call last)",
      "Cell \u001b[1;32mIn[3], line 2\u001b[0m\n\u001b[0;32m      1\u001b[0m \u001b[38;5;66;03m# Retrieve all traffic light actors in the world\u001b[39;00m\n\u001b[1;32m----> 2\u001b[0m traffic_lights \u001b[38;5;241m=\u001b[39m \u001b[43mworld\u001b[49m\u001b[38;5;241m.\u001b[39mget_actors()\u001b[38;5;241m.\u001b[39mfilter(\u001b[38;5;124m\"\u001b[39m\u001b[38;5;124mtraffic.traffic_light*\u001b[39m\u001b[38;5;124m\"\u001b[39m)\n\u001b[0;32m      4\u001b[0m \u001b[38;5;66;03m# Disable all traffic lights by setting them to green permanently\u001b[39;00m\n\u001b[0;32m      5\u001b[0m \u001b[38;5;28;01mfor\u001b[39;00m traffic_light \u001b[38;5;129;01min\u001b[39;00m traffic_lights:\n",
      "\u001b[1;31mNameError\u001b[0m: name 'world' is not defined"
     ]
    }
   ],
   "source": [
    "# Retrieve all traffic light actors in the world\n",
    "traffic_lights = world.get_actors().filter(\"traffic.traffic_light*\")\n",
    "\n",
    "# Disable all traffic lights by setting them to green permanently\n",
    "for traffic_light in traffic_lights:\n",
    "    traffic_light.set_state(carla.TrafficLightState.Green)\n",
    "    traffic_light.set_green_time(100000)  # Set a long green duration to effectively disable"
   ]
  },
  {
   "cell_type": "code",
   "execution_count": null,
   "id": "84863425-e9fe-4ac6-b9b4-f5ac57c91638",
   "metadata": {},
   "outputs": [],
   "source": []
  },
  {
   "cell_type": "code",
   "execution_count": null,
   "id": "f6f00f79-513b-407c-9765-510b6cc21f7a",
   "metadata": {},
   "outputs": [],
   "source": []
  },
  {
   "cell_type": "code",
   "execution_count": null,
   "id": "73bc96e6-db06-41c0-ad0b-171746603bc4",
   "metadata": {},
   "outputs": [],
   "source": []
  },
  {
   "cell_type": "code",
   "execution_count": null,
   "id": "8867013a-f12b-40a7-b1cb-822511eb5bd7",
   "metadata": {},
   "outputs": [],
   "source": []
  },
  {
   "cell_type": "code",
   "execution_count": null,
   "id": "b2a6c65f-cdde-4bee-bc45-0f1f1c630b1a",
   "metadata": {},
   "outputs": [],
   "source": []
  }
 ],
 "metadata": {
  "kernelspec": {
   "display_name": "Python 3 (ipykernel)",
   "language": "python",
   "name": "python3"
  },
  "language_info": {
   "codemirror_mode": {
    "name": "ipython",
    "version": 3
   },
   "file_extension": ".py",
   "mimetype": "text/x-python",
   "name": "python",
   "nbconvert_exporter": "python",
   "pygments_lexer": "ipython3",
   "version": "3.8.19"
  }
 },
 "nbformat": 4,
 "nbformat_minor": 5
}
