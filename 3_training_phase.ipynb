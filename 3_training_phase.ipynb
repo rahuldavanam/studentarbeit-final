{
 "cells": [
  {
   "cell_type": "markdown",
   "id": "afae9864-5669-4212-b198-4b111b0e4cea",
   "metadata": {},
   "source": [
    "### Questions\n",
    "1. How to measure training or testing accuracy?\n",
    "2. How many epochs to train the model?\n",
    "3. How do I choose my hyperparameters?\n",
    "4. What are the next steps?"
   ]
  },
  {
   "cell_type": "markdown",
   "id": "b0bbd70b-571b-48cd-acd7-bde30f44cfc4",
   "metadata": {},
   "source": [
    "## Carla custom dataset"
   ]
  },
  {
   "cell_type": "raw",
   "id": "f92abc84-4c4a-47bc-bab9-7816f3e3363f",
   "metadata": {},
   "source": [
    "### OLD VERSION ###\n",
    "\n",
    "import torch\n",
    "from torch.utils.data import Dataset\n",
    "import os\n",
    "from PIL import Image\n",
    "\n",
    "# Custom Dataloader for Carla\n",
    "# Should access the CSV file of Carla and load all the data in it including the respective images \n",
    "# whose image path is defined in the csv file\n",
    "class CarlaCustomDataset(Dataset):\n",
    "    def __init__(self, data, transform=None):\n",
    "        \"\"\"\n",
    "        Arguments:\n",
    "            data: Variable to call the combined csv file with all the data\n",
    "            transform (callable, optional): Optional transform to be applied\n",
    "                on a sample.\n",
    "        \"\"\"\n",
    "        self.data = data\n",
    "        self.transform = transform\n",
    "    \n",
    "    def __len__(self):\n",
    "        return len(self.data)\n",
    "    \n",
    "    def __getitem__(self,idx):\n",
    "        if torch.is_tensor(idx):\n",
    "            idx = idx.tolist()\n",
    "            \n",
    "        # Taking the image path from the csv file and loading the image\n",
    "        img_path = self.data.iloc[idx, -1] \n",
    "\n",
    "        try:\n",
    "            # Load the image\n",
    "            image = Image.open(img_path).convert('RGB')  # Ensure image is loaded in RGB mode\n",
    "            #print(\"Image exists\")\n",
    "        except Exception as e:\n",
    "            # Handle corrupted image files\n",
    "            print(f\"Error loading image {img_path}: {e}\")\n",
    "            return None # Skip this sample\n",
    "        \n",
    "        # Obtaining all the numerical data from the csv file\n",
    "        #velocity = self.data.iloc[idx, 5]\n",
    "        #throttle = self.data.iloc[idx, 6]\n",
    "        steer = self.data.iloc[idx, 7]\n",
    "        #brake = self.data.iloc[idx, 8]\n",
    "        #gear = self.data.iloc[idx, 12]\n",
    "        \n",
    "        if self.transform:\n",
    "            image = self.transform(image)\n",
    "            \n",
    "        sample = {'image': image,\n",
    "                  #'velocity': velocity, \n",
    "                  #'throttle': throttle, \n",
    "                  #'brake': brake,\n",
    "                  #'gear': gear,\n",
    "                  'steer': steer}\n",
    "        \n",
    "        return sample"
   ]
  },
  {
   "cell_type": "code",
   "execution_count": 1,
   "id": "8e1435e9-0ecb-4f89-82e9-a84bdb14cb6e",
   "metadata": {},
   "outputs": [],
   "source": [
    "import torch\n",
    "from torch.utils.data import Dataset\n",
    "import os\n",
    "from PIL import Image\n",
    "import pandas as pd\n",
    "\n",
    "# Custom Dataloader for Carla\n",
    "# Should access the CSV file of Carla and load all the data in it including the respective images \n",
    "# whose image path is defined in the csv file\n",
    "class CarlaCustomDataset(Dataset):\n",
    "    def __init__(self, data, transform=None):\n",
    "        \"\"\"\n",
    "        Arguments:\n",
    "            data: Variable to call the combined csv file with all the data\n",
    "            transform (callable, optional): Optional transform to be applied\n",
    "                on a sample.\n",
    "        \"\"\"\n",
    "        self.data = pd.read_csv(data)\n",
    "        self.transform = transform\n",
    "\n",
    "        # Pre-filter data to include only valid images\n",
    "        self.valid_data = []\n",
    "        for _, row in self.data.iterrows():\n",
    "            img_path = row['Image Path']\n",
    "            label = row['Steer']\n",
    "            if os.path.exists(img_path):\n",
    "                try:\n",
    "                    # Try loading the image to ensure it's not corrupted\n",
    "                    with Image.open(img_path) as img:\n",
    "                        img.convert(\"RGB\")\n",
    "                    self.valid_data.append((img_path, label))\n",
    "                except Exception as e:\n",
    "                    print(f\"Skipping corrupted image {img_path}: {e}\")    \n",
    "    \n",
    "    def __len__(self):\n",
    "        return len(self.valid_data)\n",
    "    \n",
    "    def __getitem__(self,idx):\n",
    "        if torch.is_tensor(idx):\n",
    "            idx = idx.tolist()\n",
    "            \n",
    "        # Taking the image path from the csv file and loading the image\n",
    "        img_path, steer = self.valid_data[idx] \n",
    "\n",
    "        image = Image.open(img_path).convert('RGB')  # Ensure image is loaded in RGB mode\n",
    "\n",
    "        # Obtaining all the numerical data from the csv file\n",
    "        #velocity = self.data.iloc[idx, 5]\n",
    "        #throttle = self.data.iloc[idx, 6]\n",
    "        #steer = self.data.iloc[idx, 7]\n",
    "        #brake = self.data.iloc[idx, 8]\n",
    "        #gear = self.data.iloc[idx, 12]\n",
    "        \n",
    "        if self.transform:\n",
    "            image = self.transform(image)\n",
    "            \n",
    "        sample = {'image': image,\n",
    "                  #'velocity': velocity, \n",
    "                  #'throttle': throttle, \n",
    "                  #'brake': brake,\n",
    "                  #'gear': gear,\n",
    "                  'steer': steer}\n",
    "        \n",
    "        return sample"
   ]
  },
  {
   "cell_type": "code",
   "execution_count": null,
   "id": "c33dd4f2-63f1-4d93-b6d5-c85e6e1f597f",
   "metadata": {},
   "outputs": [],
   "source": []
  },
  {
   "cell_type": "code",
   "execution_count": 2,
   "id": "48e92469-109f-45d3-891d-d6d57bab52eb",
   "metadata": {},
   "outputs": [
    {
     "name": "stdout",
     "output_type": "stream",
     "text": [
      "CSV files successfully split and saved!\n"
     ]
    }
   ],
   "source": [
    "import pandas as pd\n",
    "import glob\n",
    "import os\n",
    "import re\n",
    "\n",
    "# Specify the path where the CSV files are located\n",
    "csv_folder_path = r\"C:\\Users\\Student\\carla_notebook_files\\csv_data_files\"  # Replace with the actual path\n",
    "\n",
    "# Get all the CSV files\n",
    "csv_files = glob.glob(os.path.join(csv_folder_path, \"*.csv\"))\n",
    "\n",
    "# Function to extract the number at the beginning of the file name\n",
    "def extract_number(file_name):\n",
    "    match = re.match(r\"(\\d+)_\", os.path.basename(file_name))\n",
    "    return int(match.group(1)) if match else float('inf')\n",
    "\n",
    "# Sort the CSV files by the number at the start of the file name\n",
    "csv_files.sort(key=extract_number)\n",
    "\n",
    "# Split the files into train, validation, and test sets\n",
    "train_files = csv_files[:6]\n",
    "test_files = csv_files[6:]\n",
    "\n",
    "# Function to concatenate and save CSV files\n",
    "def concatenate_and_save(file_list, output_path):\n",
    "    dfs = [pd.read_csv(file) for file in file_list]\n",
    "    concatenated_df = pd.concat(dfs, ignore_index=True)\n",
    "    concatenated_df.to_csv(output_path, index=False)\n",
    "\n",
    "# Save the train, validation, and test sets\n",
    "concatenate_and_save(train_files, \"train.csv\")\n",
    "concatenate_and_save(test_files, \"test.csv\")\n",
    "\n",
    "print(\"CSV files successfully split and saved!\")"
   ]
  },
  {
   "cell_type": "code",
   "execution_count": null,
   "id": "5bb9a99e-58b6-45c8-a813-406992a1b074",
   "metadata": {},
   "outputs": [],
   "source": []
  },
  {
   "cell_type": "code",
   "execution_count": 3,
   "id": "252e61be-833e-428e-8013-e2c93ad334f0",
   "metadata": {},
   "outputs": [],
   "source": [
    "from torchvision import transforms\n",
    "import pandas as pd\n",
    "from sklearn.model_selection import train_test_split\n",
    "\n",
    "# Example usage\n",
    "#csv_file_1 = 'data_without_traffic.csv'\n",
    "#csv_file_2 = 'data_with_traffic.csv'\n",
    "transform = transforms.Compose([transforms.Resize((224, 224)),\n",
    "                                transforms.ToTensor()])\n",
    "\n",
    "# Reading both CSV files\n",
    "#carla_dataframe_1 = pd.read_csv(csv_file_1)\n",
    "#carla_dataframe_2 = pd.read_csv(csv_file_2)\n",
    "\n",
    "# Concatenate the data\n",
    "#carla_combined_dataframe = pd.concat([carla_dataframe_1, carla_dataframe_2], ignore_index=True)\n",
    "\n",
    "# Split the data\n",
    "#train_data, test_val_data = train_test_split(carla_combined_dataframe, test_size=0.3, shuffle=True, random_state=42)\n",
    "#test_data, val_data = train_test_split(test_val_data, test_size=0.5, shuffle=True, random_state=42)\n",
    "\n",
    "#train_data = pd.read_csv('train.csv')\n",
    "#test_data = pd.read_csv('test.csv')\n",
    "\n",
    "train_dataset = CarlaCustomDataset(data=\"train.csv\", transform=transform)\n",
    "test_dataset = CarlaCustomDataset(data=\"test.csv\", transform=transform)\n",
    "#val_dataset = CarlaCustomDataset(data=val_data, transform=transform)"
   ]
  },
  {
   "cell_type": "code",
   "execution_count": 4,
   "id": "f45a3533-520f-4427-9413-8a2b328953b6",
   "metadata": {
    "scrolled": true
   },
   "outputs": [
    {
     "name": "stdout",
     "output_type": "stream",
     "text": [
      "Steer: 0.0136913005262613\n",
      "Image shape: torch.Size([3, 224, 224])\n",
      "Length of training dataset: 2000\n",
      "Length of test dataset: 233\n"
     ]
    }
   ],
   "source": [
    "# Accessing a sample\n",
    "sample = train_dataset[123] # Here the row is counted excluding the first row\n",
    "image, steer = sample['image'], sample['steer']\n",
    "#brake, gear, , velocity = sample['brake'], sample['gear'], sample['velocity']\n",
    "#print(\"Velocity:\", velocity)\n",
    "#print(\"Throttle:\", throttle)\n",
    "print(\"Steer:\", steer)\n",
    "#print(\"Brake:\", brake)\n",
    "#print(\"Gear:\", gear)\n",
    "print(\"Image shape:\", image.shape)\n",
    "print(f\"Length of training dataset: {len(train_dataset)}\")\n",
    "print(f\"Length of test dataset: {len(test_dataset)}\")"
   ]
  },
  {
   "cell_type": "code",
   "execution_count": null,
   "id": "530b8a5d-e474-4e00-b551-d2ed456f4518",
   "metadata": {},
   "outputs": [],
   "source": []
  },
  {
   "cell_type": "markdown",
   "id": "6e9a81a9-cae9-4baa-9ffd-ca0d986c1b99",
   "metadata": {},
   "source": [
    "## Displaying an image to test the custom dataset"
   ]
  },
  {
   "cell_type": "code",
   "execution_count": 5,
   "id": "89ecc784-f67b-4eba-bb7a-7452ac66514d",
   "metadata": {},
   "outputs": [
    {
     "data": {
      "image/png": "[encoded data removed]",
      "text/plain": [
       "<Figure size 640x480 with 1 Axes>"
      ]
     },
     "metadata": {},
     "output_type": "display_data"
    }
   ],
   "source": [
    "import matplotlib.pyplot as plt\n",
    "\n",
    "# Convert the image into a numpy array\n",
    "image_array = image.numpy()\n",
    "\n",
    "# Transpose to get the shape [H, W, C]\n",
    "# Always remember: PyTorch -> [C,H,W]  | Numpy & Matplotlib -> [H,W,C]\n",
    "image_array = image_array.transpose(1, 2, 0)\n",
    "\n",
    "plt.imshow(image_array)\n",
    "plt.title(f\"Steer: {steer} | Image size: {image_array.shape}\")\n",
    "plt.axis(False);"
   ]
  },
  {
   "cell_type": "code",
   "execution_count": null,
   "id": "6e9f2e0d-216f-491a-bcc6-3177b1119d67",
   "metadata": {},
   "outputs": [],
   "source": []
  },
  {
   "cell_type": "markdown",
   "id": "cb46ad05-fe38-4139-9b85-0ec21d15b58b",
   "metadata": {},
   "source": [
    "# Dataloader"
   ]
  },
  {
   "cell_type": "code",
   "execution_count": 6,
   "id": "33378854-0afb-4ca2-af31-1d531245b8c7",
   "metadata": {},
   "outputs": [
    {
     "data": {
      "text/plain": [
       "(<torch.utils.data.dataloader.DataLoader at 0x28d2fa61f40>,\n",
       " <torch.utils.data.dataloader.DataLoader at 0x28d2fa61c10>)"
      ]
     },
     "execution_count": 6,
     "metadata": {},
     "output_type": "execute_result"
    }
   ],
   "source": [
    "from torch.utils.data import DataLoader\n",
    "\n",
    "train_dataloader = DataLoader(dataset=train_dataset, # use custom created train Dataset\n",
    "                              batch_size=64, # how many samples per batch?\n",
    "                              num_workers=0, # how many subprocesses to use for data loading? (higher = more)\n",
    "                              shuffle=True) # shuffle the data?\n",
    "\n",
    "test_dataloader = DataLoader(dataset=test_dataset, # use custom created test Dataset\n",
    "                             batch_size=1, \n",
    "                             num_workers=0, \n",
    "                             shuffle=False) # don't usually need to shuffle testing data\n",
    "\n",
    "#val_dataloader = DataLoader(dataset=val_dataset,\n",
    "#                            batch_size=1, \n",
    "#                            num_workers=0, \n",
    "#                            shuffle=False)\n",
    "\n",
    "train_dataloader, test_dataloader"
   ]
  },
  {
   "cell_type": "code",
   "execution_count": 7,
   "id": "ee1fe90f-0241-4c3d-8508-dcfa97c4f4dc",
   "metadata": {
    "scrolled": true
   },
   "outputs": [
    {
     "name": "stdout",
     "output_type": "stream",
     "text": [
      "Batch size: 64\n",
      "Steer values in batch: torch.Size([64])\n",
      "Batch size: 64\n",
      "Steer values in batch: torch.Size([64])\n",
      "Batch size: 64\n",
      "Steer values in batch: torch.Size([64])\n",
      "Batch size: 64\n",
      "Steer values in batch: torch.Size([64])\n",
      "Batch size: 64\n",
      "Steer values in batch: torch.Size([64])\n",
      "Batch size: 64\n",
      "Steer values in batch: torch.Size([64])\n",
      "Batch size: 64\n",
      "Steer values in batch: torch.Size([64])\n",
      "Batch size: 64\n",
      "Steer values in batch: torch.Size([64])\n",
      "Batch size: 64\n",
      "Steer values in batch: torch.Size([64])\n",
      "Batch size: 64\n",
      "Steer values in batch: torch.Size([64])\n",
      "Batch size: 64\n",
      "Steer values in batch: torch.Size([64])\n",
      "Batch size: 64\n",
      "Steer values in batch: torch.Size([64])\n",
      "Batch size: 64\n",
      "Steer values in batch: torch.Size([64])\n",
      "Batch size: 64\n",
      "Steer values in batch: torch.Size([64])\n",
      "Batch size: 64\n",
      "Steer values in batch: torch.Size([64])\n",
      "Batch size: 64\n",
      "Steer values in batch: torch.Size([64])\n",
      "Batch size: 64\n",
      "Steer values in batch: torch.Size([64])\n",
      "Batch size: 64\n",
      "Steer values in batch: torch.Size([64])\n",
      "Batch size: 64\n",
      "Steer values in batch: torch.Size([64])\n",
      "Batch size: 64\n",
      "Steer values in batch: torch.Size([64])\n",
      "Batch size: 64\n",
      "Steer values in batch: torch.Size([64])\n",
      "Batch size: 64\n",
      "Steer values in batch: torch.Size([64])\n",
      "Batch size: 64\n",
      "Steer values in batch: torch.Size([64])\n",
      "Batch size: 64\n",
      "Steer values in batch: torch.Size([64])\n",
      "Batch size: 64\n",
      "Steer values in batch: torch.Size([64])\n",
      "Batch size: 64\n",
      "Steer values in batch: torch.Size([64])\n",
      "Batch size: 64\n",
      "Steer values in batch: torch.Size([64])\n",
      "Batch size: 64\n",
      "Steer values in batch: torch.Size([64])\n",
      "Batch size: 64\n",
      "Steer values in batch: torch.Size([64])\n",
      "Batch size: 64\n",
      "Steer values in batch: torch.Size([64])\n",
      "Batch size: 64\n",
      "Steer values in batch: torch.Size([64])\n",
      "Batch size: 50\n",
      "Steer values in batch: torch.Size([50])\n"
     ]
    }
   ],
   "source": [
    "# Iterate over the DataLoader and check the behavior\n",
    "for batch in train_dataloader:\n",
    "    print(f\"Batch size: {len(batch['image'])}\")\n",
    "    # Optionally, print other parts of the batch to verify\n",
    "    print(f\"Steer values in batch: {batch['steer'].shape}\")"
   ]
  },
  {
   "cell_type": "markdown",
   "id": "4e3ea71c-1351-406a-a45c-14001097e74a",
   "metadata": {},
   "source": [
    "# Model"
   ]
  },
  {
   "cell_type": "code",
   "execution_count": 7,
   "id": "18989208-a6f4-4a5e-9b6d-ebf529a639a7",
   "metadata": {},
   "outputs": [],
   "source": [
    "import torch\n",
    "import torchvision\n",
    "from torchvision.models import resnet18, ResNet18_Weights\n",
    "\n",
    "device = 'cuda' if torch.cuda.is_available() else 'cpu'\n",
    "output_dim = 1  # Only steering is considered\n",
    "\n",
    "# model = torchvision.models.resnet18(pretrained=True)\n",
    "model = resnet18(weights=ResNet18_Weights.DEFAULT)\n",
    "model.fc = torch.nn.Linear(512, output_dim)\n",
    "\n",
    "model = model.to(device)"
   ]
  },
  {
   "cell_type": "code",
   "execution_count": 8,
   "id": "09bf2f61-42cb-45a7-880f-7f4d0324b01d",
   "metadata": {},
   "outputs": [],
   "source": [
    "# Freeze all layers by default\n",
    "for param in model.parameters():\n",
    "    param.requires_grad = False\n",
    "\n",
    "# Unfreeze only the 'layer4' and fully connected (fc) layer\n",
    "for param in model.layer4.parameters():\n",
    "    param.requires_grad = True\n",
    "for param in model.fc.parameters():\n",
    "    param.requires_grad = True"
   ]
  },
  {
   "cell_type": "code",
   "execution_count": 9,
   "id": "580ec196-b61d-4b8d-9316-692de26521d3",
   "metadata": {
    "scrolled": true
   },
   "outputs": [
    {
     "data": {
      "text/plain": [
       "========================================================================================================================\n",
       "Layer (type (var_name))                  Input Shape          Output Shape         Param #              Trainable\n",
       "========================================================================================================================\n",
       "ResNet (ResNet)                          [32, 3, 224, 224]    [32, 1]              --                   Partial\n",
       "├─Conv2d (conv1)                         [32, 3, 224, 224]    [32, 64, 112, 112]   (9,408)              False\n",
       "├─BatchNorm2d (bn1)                      [32, 64, 112, 112]   [32, 64, 112, 112]   (128)                False\n",
       "├─ReLU (relu)                            [32, 64, 112, 112]   [32, 64, 112, 112]   --                   --\n",
       "├─MaxPool2d (maxpool)                    [32, 64, 112, 112]   [32, 64, 56, 56]     --                   --\n",
       "├─Sequential (layer1)                    [32, 64, 56, 56]     [32, 64, 56, 56]     --                   False\n",
       "│    └─BasicBlock (0)                    [32, 64, 56, 56]     [32, 64, 56, 56]     --                   False\n",
       "│    │    └─Conv2d (conv1)               [32, 64, 56, 56]     [32, 64, 56, 56]     (36,864)             False\n",
       "│    │    └─BatchNorm2d (bn1)            [32, 64, 56, 56]     [32, 64, 56, 56]     (128)                False\n",
       "│    │    └─ReLU (relu)                  [32, 64, 56, 56]     [32, 64, 56, 56]     --                   --\n",
       "│    │    └─Conv2d (conv2)               [32, 64, 56, 56]     [32, 64, 56, 56]     (36,864)             False\n",
       "│    │    └─BatchNorm2d (bn2)            [32, 64, 56, 56]     [32, 64, 56, 56]     (128)                False\n",
       "│    │    └─ReLU (relu)                  [32, 64, 56, 56]     [32, 64, 56, 56]     --                   --\n",
       "│    └─BasicBlock (1)                    [32, 64, 56, 56]     [32, 64, 56, 56]     --                   False\n",
       "│    │    └─Conv2d (conv1)               [32, 64, 56, 56]     [32, 64, 56, 56]     (36,864)             False\n",
       "│    │    └─BatchNorm2d (bn1)            [32, 64, 56, 56]     [32, 64, 56, 56]     (128)                False\n",
       "│    │    └─ReLU (relu)                  [32, 64, 56, 56]     [32, 64, 56, 56]     --                   --\n",
       "│    │    └─Conv2d (conv2)               [32, 64, 56, 56]     [32, 64, 56, 56]     (36,864)             False\n",
       "│    │    └─BatchNorm2d (bn2)            [32, 64, 56, 56]     [32, 64, 56, 56]     (128)                False\n",
       "│    │    └─ReLU (relu)                  [32, 64, 56, 56]     [32, 64, 56, 56]     --                   --\n",
       "├─Sequential (layer2)                    [32, 64, 56, 56]     [32, 128, 28, 28]    --                   False\n",
       "│    └─BasicBlock (0)                    [32, 64, 56, 56]     [32, 128, 28, 28]    --                   False\n",
       "│    │    └─Conv2d (conv1)               [32, 64, 56, 56]     [32, 128, 28, 28]    (73,728)             False\n",
       "│    │    └─BatchNorm2d (bn1)            [32, 128, 28, 28]    [32, 128, 28, 28]    (256)                False\n",
       "│    │    └─ReLU (relu)                  [32, 128, 28, 28]    [32, 128, 28, 28]    --                   --\n",
       "│    │    └─Conv2d (conv2)               [32, 128, 28, 28]    [32, 128, 28, 28]    (147,456)            False\n",
       "│    │    └─BatchNorm2d (bn2)            [32, 128, 28, 28]    [32, 128, 28, 28]    (256)                False\n",
       "│    │    └─Sequential (downsample)      [32, 64, 56, 56]     [32, 128, 28, 28]    (8,448)              False\n",
       "│    │    └─ReLU (relu)                  [32, 128, 28, 28]    [32, 128, 28, 28]    --                   --\n",
       "│    └─BasicBlock (1)                    [32, 128, 28, 28]    [32, 128, 28, 28]    --                   False\n",
       "│    │    └─Conv2d (conv1)               [32, 128, 28, 28]    [32, 128, 28, 28]    (147,456)            False\n",
       "│    │    └─BatchNorm2d (bn1)            [32, 128, 28, 28]    [32, 128, 28, 28]    (256)                False\n",
       "│    │    └─ReLU (relu)                  [32, 128, 28, 28]    [32, 128, 28, 28]    --                   --\n",
       "│    │    └─Conv2d (conv2)               [32, 128, 28, 28]    [32, 128, 28, 28]    (147,456)            False\n",
       "│    │    └─BatchNorm2d (bn2)            [32, 128, 28, 28]    [32, 128, 28, 28]    (256)                False\n",
       "│    │    └─ReLU (relu)                  [32, 128, 28, 28]    [32, 128, 28, 28]    --                   --\n",
       "├─Sequential (layer3)                    [32, 128, 28, 28]    [32, 256, 14, 14]    --                   False\n",
       "│    └─BasicBlock (0)                    [32, 128, 28, 28]    [32, 256, 14, 14]    --                   False\n",
       "│    │    └─Conv2d (conv1)               [32, 128, 28, 28]    [32, 256, 14, 14]    (294,912)            False\n",
       "│    │    └─BatchNorm2d (bn1)            [32, 256, 14, 14]    [32, 256, 14, 14]    (512)                False\n",
       "│    │    └─ReLU (relu)                  [32, 256, 14, 14]    [32, 256, 14, 14]    --                   --\n",
       "│    │    └─Conv2d (conv2)               [32, 256, 14, 14]    [32, 256, 14, 14]    (589,824)            False\n",
       "│    │    └─BatchNorm2d (bn2)            [32, 256, 14, 14]    [32, 256, 14, 14]    (512)                False\n",
       "│    │    └─Sequential (downsample)      [32, 128, 28, 28]    [32, 256, 14, 14]    (33,280)             False\n",
       "│    │    └─ReLU (relu)                  [32, 256, 14, 14]    [32, 256, 14, 14]    --                   --\n",
       "│    └─BasicBlock (1)                    [32, 256, 14, 14]    [32, 256, 14, 14]    --                   False\n",
       "│    │    └─Conv2d (conv1)               [32, 256, 14, 14]    [32, 256, 14, 14]    (589,824)            False\n",
       "│    │    └─BatchNorm2d (bn1)            [32, 256, 14, 14]    [32, 256, 14, 14]    (512)                False\n",
       "│    │    └─ReLU (relu)                  [32, 256, 14, 14]    [32, 256, 14, 14]    --                   --\n",
       "│    │    └─Conv2d (conv2)               [32, 256, 14, 14]    [32, 256, 14, 14]    (589,824)            False\n",
       "│    │    └─BatchNorm2d (bn2)            [32, 256, 14, 14]    [32, 256, 14, 14]    (512)                False\n",
       "│    │    └─ReLU (relu)                  [32, 256, 14, 14]    [32, 256, 14, 14]    --                   --\n",
       "├─Sequential (layer4)                    [32, 256, 14, 14]    [32, 512, 7, 7]      --                   True\n",
       "│    └─BasicBlock (0)                    [32, 256, 14, 14]    [32, 512, 7, 7]      --                   True\n",
       "│    │    └─Conv2d (conv1)               [32, 256, 14, 14]    [32, 512, 7, 7]      1,179,648            True\n",
       "│    │    └─BatchNorm2d (bn1)            [32, 512, 7, 7]      [32, 512, 7, 7]      1,024                True\n",
       "│    │    └─ReLU (relu)                  [32, 512, 7, 7]      [32, 512, 7, 7]      --                   --\n",
       "│    │    └─Conv2d (conv2)               [32, 512, 7, 7]      [32, 512, 7, 7]      2,359,296            True\n",
       "│    │    └─BatchNorm2d (bn2)            [32, 512, 7, 7]      [32, 512, 7, 7]      1,024                True\n",
       "│    │    └─Sequential (downsample)      [32, 256, 14, 14]    [32, 512, 7, 7]      132,096              True\n",
       "│    │    └─ReLU (relu)                  [32, 512, 7, 7]      [32, 512, 7, 7]      --                   --\n",
       "│    └─BasicBlock (1)                    [32, 512, 7, 7]      [32, 512, 7, 7]      --                   True\n",
       "│    │    └─Conv2d (conv1)               [32, 512, 7, 7]      [32, 512, 7, 7]      2,359,296            True\n",
       "│    │    └─BatchNorm2d (bn1)            [32, 512, 7, 7]      [32, 512, 7, 7]      1,024                True\n",
       "│    │    └─ReLU (relu)                  [32, 512, 7, 7]      [32, 512, 7, 7]      --                   --\n",
       "│    │    └─Conv2d (conv2)               [32, 512, 7, 7]      [32, 512, 7, 7]      2,359,296            True\n",
       "│    │    └─BatchNorm2d (bn2)            [32, 512, 7, 7]      [32, 512, 7, 7]      1,024                True\n",
       "│    │    └─ReLU (relu)                  [32, 512, 7, 7]      [32, 512, 7, 7]      --                   --\n",
       "├─AdaptiveAvgPool2d (avgpool)            [32, 512, 7, 7]      [32, 512, 1, 1]      --                   --\n",
       "├─Linear (fc)                            [32, 512]            [32, 1]              513                  True\n",
       "========================================================================================================================\n",
       "Total params: 11,177,025\n",
       "Trainable params: 8,394,241\n",
       "Non-trainable params: 2,782,784\n",
       "Total mult-adds (G): 58.03\n",
       "========================================================================================================================\n",
       "Input size (MB): 19.27\n",
       "Forward/backward pass size (MB): 1271.66\n",
       "Params size (MB): 44.71\n",
       "Estimated Total Size (MB): 1335.64\n",
       "========================================================================================================================"
      ]
     },
     "execution_count": 9,
     "metadata": {},
     "output_type": "execute_result"
    }
   ],
   "source": [
    "import torchinfo\n",
    "from torchinfo import summary\n",
    "\n",
    "summary(model=model, \n",
    "        input_size=(32, 3, 224, 224), # make sure this is \"input_size\", not \"input_shape\" (batch_size, color_channels, height, width)\n",
    "        verbose=0,\n",
    "        col_names=[\"input_size\", \"output_size\", \"num_params\", \"trainable\"],\n",
    "        col_width=20,\n",
    "        row_settings=[\"var_names\"]\n",
    ")"
   ]
  },
  {
   "cell_type": "markdown",
   "id": "5b372845-3b56-4eb6-8e08-04756bc706a4",
   "metadata": {},
   "source": [
    "### Trial forward pass to test model functionality"
   ]
  },
  {
   "cell_type": "code",
   "execution_count": 10,
   "id": "dbc0cb7e-180d-480e-acb6-a5d602867037",
   "metadata": {},
   "outputs": [
    {
     "name": "stdout",
     "output_type": "stream",
     "text": [
      "Single image shape: torch.Size([1, 3, 224, 224])\n",
      "Single steer value: -0.0038694941904395\n",
      "\n",
      "Output steer: tensor([[0.7043]], device='cuda:0')\n"
     ]
    }
   ],
   "source": [
    "# 1. Get a batch of images and labels from the DataLoader\n",
    "img_batch = next(iter(train_dataloader))['image'].to(device)\n",
    "#throttle_batch = next(iter(train_dataloader))['throttle'].to(device)\n",
    "steer_batch = next(iter(train_dataloader))['steer'].to(device)\n",
    "\n",
    "# 2. Get a single image from the batch and unsqueeze the image so its shape fits the model\n",
    "img_single, steer_single = img_batch[0].unsqueeze(dim=0), steer_batch[0]\n",
    "print(f\"Single image shape: {img_single.shape}\")\n",
    "#print(f\"Single throttle value: {throttle_single}\")\n",
    "print(f\"Single steer value: {steer_single}\\n\")\n",
    "\n",
    "# 3. Perform a forward pass on a single image\n",
    "model.eval()\n",
    "with torch.inference_mode():\n",
    "    pred = model(img_single)\n",
    "\n",
    "# 4. Print out what's happening and convert model logits -> pred probs -> pred label\n",
    "#print(f\"Output throttle: {pred[0,0]}\")\n",
    "print(f\"Output steer: {pred}\")"
   ]
  },
  {
   "cell_type": "code",
   "execution_count": null,
   "id": "fd8e95b7-e951-4bcd-a47e-5c568a98281e",
   "metadata": {},
   "outputs": [],
   "source": []
  },
  {
   "cell_type": "markdown",
   "id": "825de38e-c01b-4055-8929-89d4877448ab",
   "metadata": {},
   "source": [
    "# Setting up loss, scheduler and optimiser function"
   ]
  },
  {
   "cell_type": "code",
   "execution_count": 11,
   "id": "c6cf0cfa-e94b-4c92-8fca-949398af9f13",
   "metadata": {},
   "outputs": [],
   "source": [
    "from torch import nn\n",
    "from torch.optim.lr_scheduler import ReduceLROnPlateau\n",
    "\n",
    "loss_fn = nn.MSELoss()\n",
    "# Optimizer: Different LR for different layers\n",
    "optimizer = torch.optim.Adam([\n",
    "    {'params': model.layer4.parameters(), 'lr': 1e-5},  # Fine-tuning layer4\n",
    "    {'params': model.fc.parameters(), 'lr': 1e-4}       # Fully connected layer\n",
    "])\n",
    "scheduler = ReduceLROnPlateau(optimizer, mode='min', factor=0.1, patience=5)"
   ]
  },
  {
   "cell_type": "raw",
   "id": "e4f596dc-68ab-4754-a5b7-eb1bd290c9e5",
   "metadata": {},
   "source": [
    "from torch import nn\n",
    "\n",
    "loss_fn = nn.CrossEntropyLoss()\n",
    "optimizer = torch.optim.Adam(params=model.parameters(), lr=0.00001)\n",
    "scheduler = torch.optim.lr_scheduler.StepLR(optimizer, step_size=10, gamma=0.1)"
   ]
  },
  {
   "cell_type": "markdown",
   "id": "21df8c3e-66e3-42d2-bbab-273b9c74f6e9",
   "metadata": {},
   "source": [
    "### Trial train testing"
   ]
  },
  {
   "cell_type": "code",
   "execution_count": 12,
   "id": "7dc2d1da-7b08-4e35-965e-2a037411af39",
   "metadata": {},
   "outputs": [
    {
     "name": "stdout",
     "output_type": "stream",
     "text": [
      "Labels shape: torch.Size([64])\n",
      "Prediction shape: torch.Size([64])\n",
      "0.30506467819213867\n",
      "tensor(0.3051, device='cuda:0', grad_fn=<MeanBackward1>)\n",
      "Error: 0.30506467819213867\n",
      "Y: [0.30506467819213867]\n"
     ]
    }
   ],
   "source": [
    "import numpy as np\n",
    "\n",
    "y= []\n",
    "error = 0\n",
    "\n",
    "for batch in train_dataloader:\n",
    "    X = batch['image'].to(device)\n",
    "    #throttle = batch['throttle'].to(device)\n",
    "    labels = batch['steer'].to(device).float()\n",
    "    #labels = torch.stack((throttle, steer), dim=1).to(device)                      \n",
    "    #print(f\"Image shape: {X[0]}\")\n",
    "    #print(f\"Throttle shape: {throttle.shape}\")\n",
    "    #print(f\"Steer shape: {steer.shape}\")\n",
    "    print(f\"Labels shape: {labels.shape}\")\n",
    "    y_pred = model(X).squeeze(dim=1)\n",
    "    print(f\"Prediction shape: {y_pred.shape}\")\n",
    "    loss = loss_fn(y_pred, labels)\n",
    "    #print(f\"Loss: {loss.item()}\")\n",
    "    y.append(loss.item())\n",
    "    error = ((labels-y_pred) ** 2).mean().item()\n",
    "    print(error)\n",
    "    error = ((labels-y_pred) ** 2).mean(axis=0)\n",
    "    print(error)\n",
    "    error = error.mean()\n",
    "    print(f\"Error: {error}\")\n",
    "    print(f\"Y: {y}\")\n",
    "    optimizer.zero_grad()\n",
    "    loss.backward()\n",
    "    optimizer.step()\n",
    "    break"
   ]
  },
  {
   "cell_type": "code",
   "execution_count": null,
   "id": "d0c73934-f646-4b8c-bd79-38a2b8ea646f",
   "metadata": {},
   "outputs": [],
   "source": []
  },
  {
   "cell_type": "markdown",
   "id": "9da55167-8136-4ec1-b02a-cf44df82e170",
   "metadata": {},
   "source": [
    "## Training loop function"
   ]
  },
  {
   "cell_type": "code",
   "execution_count": 13,
   "id": "958f44dd-e77a-4899-9bb1-6d8fb949f810",
   "metadata": {},
   "outputs": [],
   "source": [
    "def train_loop(model: torch.nn.Module,\n",
    "               data_loader: torch.utils.data.DataLoader,\n",
    "               loss_fn: torch.nn.Module,\n",
    "               optimizer: torch.optim.Optimizer,\n",
    "               device: torch.device = device):\n",
    "    train_loss, train_mse = 0, 0\n",
    "    model.to(device)\n",
    "    for batch in data_loader:\n",
    "        # Send data to GPU\n",
    "        image = batch['image'].to(device)\n",
    "        #throttle = batch['throttle'].to(device)\n",
    "        labels = batch['steer'].to(device).float()\n",
    "        #labels = torch.stack((throttle, steer), dim=1).to(device)\n",
    "        #y_throttle = torch.tensor(batch['throttle']).clone().detach().to(device)\n",
    "        #y_steer = torch.tensor(batch['steer']).clone().detach().to(device)\n",
    "\n",
    "        # 1. Forward pass\n",
    "        pred = model(image).squeeze(dim=1)\n",
    "\n",
    "        # 2. Calculate loss\n",
    "        loss = loss_fn(pred, labels)\n",
    "        train_loss += loss.item()\n",
    "\n",
    "        # 3. Optimizer zero grad\n",
    "        optimizer.zero_grad()\n",
    "\n",
    "        # 4. Loss backward\n",
    "        loss.backward()\n",
    "\n",
    "        # 5. Optimizer step\n",
    "        optimizer.step()\n",
    "    \n",
    "    # Calculate loss and accuracy per epoch and print out what's happening\n",
    "    train_loss /= len(data_loader)\n",
    "    train_loss_np.append(train_loss)\n",
    "\n",
    "    return train_loss"
   ]
  },
  {
   "cell_type": "code",
   "execution_count": null,
   "id": "1117962b-8e1f-4618-acbb-d2feb825bee3",
   "metadata": {},
   "outputs": [],
   "source": []
  },
  {
   "cell_type": "markdown",
   "id": "9893b3f4-d782-45ef-8508-e061562cf8e8",
   "metadata": {},
   "source": [
    "## Testing loop function"
   ]
  },
  {
   "cell_type": "code",
   "execution_count": 14,
   "id": "53fa424c-9157-490a-9d3d-b77b08151e55",
   "metadata": {},
   "outputs": [],
   "source": [
    "def test_loop(data_loader: torch.utils.data.DataLoader,\n",
    "              model: torch.nn.Module,\n",
    "              loss_fn: torch.nn.Module,\n",
    "              device: torch.device = device):\n",
    "    test_loss, test_mse = 0, 0\n",
    "    model.to(device)\n",
    "    model.eval() # put model in eval mode\n",
    "    # Turn on inference context manager\n",
    "    with torch.inference_mode(): \n",
    "        for batch in data_loader:\n",
    "            # Send data to GPU\n",
    "            image = batch['image'].to(device)\n",
    "            #throttle = batch['throttle'].to(device)\n",
    "            labels = batch['steer'].to(device).float()\n",
    "            #print(f\"Labels: {labels}\")\n",
    "            #labels = torch.stack((throttle, steer), dim=1).to(device)\n",
    "            \n",
    "            # 1. Forward pass\n",
    "            test_pred = model(image).squeeze(dim=1)\n",
    "            #print(f\"Test pred: {test_pred}\")\n",
    "            \n",
    "            # 2. Calculate loss\n",
    "            loss = loss_fn(test_pred, labels)\n",
    "            #print(f\"Loss : {loss}\")\n",
    "            test_loss += loss.item()\n",
    "            \n",
    "        # Adjust metrics and print output\n",
    "        test_loss /= len(data_loader)\n",
    "        test_loss_np.append(test_loss)\n",
    "\n",
    "        return test_loss"
   ]
  },
  {
   "cell_type": "code",
   "execution_count": null,
   "id": "5f5f3745-678d-4e28-994f-1befae63f7bd",
   "metadata": {},
   "outputs": [],
   "source": []
  },
  {
   "cell_type": "markdown",
   "id": "bf24093d-cb65-4989-a8f5-9e971613d52d",
   "metadata": {},
   "source": [
    "# Invoking train and test function"
   ]
  },
  {
   "cell_type": "code",
   "execution_count": 15,
   "id": "fe4a92f9-8135-4a4e-82b1-f046007860a8",
   "metadata": {},
   "outputs": [
    {
     "name": "stdout",
     "output_type": "stream",
     "text": [
      "Epoch [1/30], Train Loss: 0.0235, test Loss: 0.0138, LR: 0.000010\n",
      "Epoch [2/30], Train Loss: 0.0021, test Loss: 0.0055, LR: 0.000010\n",
      "Epoch [3/30], Train Loss: 0.0011, test Loss: 0.0033, LR: 0.000010\n",
      "Epoch [4/30], Train Loss: 0.0008, test Loss: 0.0026, LR: 0.000010\n",
      "Epoch [5/30], Train Loss: 0.0007, test Loss: 0.0025, LR: 0.000010\n",
      "Epoch [6/30], Train Loss: 0.0006, test Loss: 0.0020, LR: 0.000010\n",
      "Epoch [7/30], Train Loss: 0.0005, test Loss: 0.0017, LR: 0.000010\n",
      "Epoch [8/30], Train Loss: 0.0005, test Loss: 0.0016, LR: 0.000010\n",
      "Epoch [9/30], Train Loss: 0.0004, test Loss: 0.0015, LR: 0.000010\n",
      "Epoch [10/30], Train Loss: 0.0004, test Loss: 0.0014, LR: 0.000010\n",
      "Epoch [11/30], Train Loss: 0.0004, test Loss: 0.0013, LR: 0.000010\n",
      "Epoch [12/30], Train Loss: 0.0003, test Loss: 0.0013, LR: 0.000010\n",
      "Epoch [13/30], Train Loss: 0.0003, test Loss: 0.0012, LR: 0.000010\n",
      "Epoch [14/30], Train Loss: 0.0003, test Loss: 0.0012, LR: 0.000010\n",
      "Epoch [15/30], Train Loss: 0.0003, test Loss: 0.0012, LR: 0.000010\n",
      "Epoch [16/30], Train Loss: 0.0003, test Loss: 0.0014, LR: 0.000010\n",
      "Epoch [17/30], Train Loss: 0.0002, test Loss: 0.0012, LR: 0.000010\n",
      "Epoch [18/30], Train Loss: 0.0002, test Loss: 0.0012, LR: 0.000010\n",
      "Epoch [19/30], Train Loss: 0.0002, test Loss: 0.0013, LR: 0.000010\n",
      "Epoch [20/30], Train Loss: 0.0002, test Loss: 0.0012, LR: 0.000010\n",
      "Epoch [21/30], Train Loss: 0.0002, test Loss: 0.0011, LR: 0.000010\n",
      "Epoch [22/30], Train Loss: 0.0002, test Loss: 0.0011, LR: 0.000010\n",
      "Epoch [23/30], Train Loss: 0.0002, test Loss: 0.0012, LR: 0.000010\n",
      "Epoch [24/30], Train Loss: 0.0002, test Loss: 0.0010, LR: 0.000010\n",
      "Epoch [25/30], Train Loss: 0.0002, test Loss: 0.0011, LR: 0.000010\n",
      "Epoch [26/30], Train Loss: 0.0002, test Loss: 0.0011, LR: 0.000010\n",
      "Epoch [27/30], Train Loss: 0.0001, test Loss: 0.0011, LR: 0.000010\n",
      "Epoch [28/30], Train Loss: 0.0001, test Loss: 0.0011, LR: 0.000010\n",
      "Epoch [29/30], Train Loss: 0.0001, test Loss: 0.0011, LR: 0.000010\n",
      "Epoch [30/30], Train Loss: 0.0001, test Loss: 0.0010, LR: 0.000010\n",
      "Training complete\n"
     ]
    }
   ],
   "source": [
    "train_loss_np = []\n",
    "test_loss_np = []\n",
    "\n",
    "epochs = 30\n",
    "\n",
    "for epoch in range(epochs):\n",
    "    # Call the train and validate functions\n",
    "    train_loss = train_loop(data_loader=train_dataloader, \n",
    "                            model=model, \n",
    "                            loss_fn=loss_fn,\n",
    "                            optimizer=optimizer,\n",
    "                            device=device)\n",
    "    test_loss = test_loop(data_loader=test_dataloader,\n",
    "                          model=model,\n",
    "                          loss_fn=loss_fn,\n",
    "                          device=device)\n",
    "\n",
    "    # Adjust the learning rate based on validation loss\n",
    "    scheduler.step(test_loss)\n",
    "\n",
    "    # Get the current learning rate\n",
    "    current_lr = scheduler.get_last_lr()[0] \n",
    "\n",
    "    # Print training progress\n",
    "    print(f'Epoch [{epoch+1}/{epochs}], Train Loss: {train_loss:.4f}, test Loss: {test_loss:.4f}, LR: {current_lr:.6f}')\n",
    "\n",
    "print('Training complete')"
   ]
  },
  {
   "cell_type": "code",
   "execution_count": null,
   "id": "d5641063-1c31-44dc-ab38-15ddf68e6a98",
   "metadata": {},
   "outputs": [],
   "source": []
  },
  {
   "cell_type": "raw",
   "id": "df7277b2-b9a6-4324-97dd-2c208eb16a02",
   "metadata": {},
   "source": [
    "    print(f\"----------\\nEpoch: {epoch}\")\n",
    "    train_loop(data_loader=train_dataloader, \n",
    "               model=model, \n",
    "               loss_fn=loss_fn,\n",
    "               optimizer=optimizer,\n",
    "               device=device)\n",
    "\n",
    "    test_loop(data_loader=test_dataloader,\n",
    "              model=model,\n",
    "              loss_fn=loss_fn,\n",
    "              device=device)"
   ]
  },
  {
   "cell_type": "markdown",
   "id": "85fc5ec2-dc94-4ce8-a253-5eaa1edd91fe",
   "metadata": {},
   "source": [
    "### Plotting a loss curve to check overfitting"
   ]
  },
  {
   "cell_type": "code",
   "execution_count": 16,
   "id": "304ae934-2cee-4210-8864-a522e8d0d011",
   "metadata": {},
   "outputs": [
    {
     "data": {
      "image/png": "[encoded data removed]",
      "text/plain": [
       "<Figure size 1200x600 with 1 Axes>"
      ]
     },
     "metadata": {},
     "output_type": "display_data"
    }
   ],
   "source": [
    "plt.figure(figsize=(12,6))\n",
    "plt.plot(range(1, len(train_loss_np)+1), train_loss_np, label='Train loss', color='red')\n",
    "plt.plot(range(1, len(test_loss_np)+1), test_loss_np, label='Test loss', color='blue')\n",
    "plt.xlabel('Epochs')\n",
    "plt.ylabel('Loss')\n",
    "plt.legend();"
   ]
  },
  {
   "cell_type": "markdown",
   "id": "ee2c3678-5465-4a98-8ffa-43dafee221cd",
   "metadata": {},
   "source": [
    "### Plotting the LR schedule plot"
   ]
  },
  {
   "cell_type": "code",
   "execution_count": 3,
   "id": "bd63887b-4191-41f2-a026-a668aff968e1",
   "metadata": {},
   "outputs": [
    {
     "data": {
      "image/png": "[encoded data removed]",
      "text/plain": [
       "<Figure size 800x400 with 1 Axes>"
      ]
     },
     "metadata": {},
     "output_type": "display_data"
    }
   ],
   "source": [
    "import matplotlib.pyplot as plt\n",
    "\n",
    "# Learning rate for each of the 30 epochs\n",
    "lrs = [\n",
    "    1e-5, 1e-5, 1e-5, 1e-5, 1e-5, 1e-5, 1e-5, 1e-5, 1e-5, 1e-5,\n",
    "    1e-5, 1e-5, 1e-5, 1e-5, 1e-5, 1e-5, 1e-5, 1e-5, 1e-5, 1e-5,\n",
    "    1e-5, 1e-5, 1e-5, 1e-6, 1e-6, 1e-6, 1e-6, 1e-6, 1e-6, 0.0\n",
    "]\n",
    "epochs = list(range(1, 31))\n",
    "\n",
    "plt.figure(figsize=(8, 4))\n",
    "plt.plot(epochs, lrs, marker='o', linestyle='-', color='purple')\n",
    "plt.xlabel('Epoch')\n",
    "plt.ylabel('Learning Rate')\n",
    "plt.title('Learning Rate Schedule')\n",
    "plt.grid(True)\n",
    "plt.xticks(epochs)\n",
    "plt.yscale('log')  # because of the log-scale decay\n",
    "plt.tight_layout()\n",
    "plt.savefig('lr_schedule.png', dpi=600) \n",
    "plt.show()"
   ]
  },
  {
   "cell_type": "markdown",
   "id": "1d2cf480-f398-45ec-8b6c-5a0e755d6514",
   "metadata": {},
   "source": [
    "### Train vs validation loss curve"
   ]
  },
  {
   "cell_type": "code",
   "execution_count": 4,
   "id": "b0aa4d34-cb54-49ac-aaca-9858a122b91d",
   "metadata": {},
   "outputs": [
    {
     "data": {
      "image/png": "[encoded data removed]",
      "text/plain": [
       "<Figure size 800x500 with 1 Axes>"
      ]
     },
     "metadata": {},
     "output_type": "display_data"
    }
   ],
   "source": [
    "import matplotlib.pyplot as plt\n",
    "\n",
    "# Epochs\n",
    "epochs = list(range(1, 31))\n",
    "\n",
    "# Train and test losses\n",
    "train_loss = [\n",
    "    0.0119, 0.0026, 0.0017, 0.0015, 0.0012, 0.0011, 0.0010, 0.0009, 0.0008, 0.0008,\n",
    "    0.0007, 0.0007, 0.0006, 0.0006, 0.0006, 0.0005, 0.0005, 0.0005, 0.0004, 0.0004,\n",
    "    0.0004, 0.0003, 0.0003, 0.0004, 0.0003, 0.0003, 0.0003, 0.0003, 0.0003, 0.0002\n",
    "]\n",
    "\n",
    "val_loss = [\n",
    "    0.0227, 0.0071, 0.0067, 0.0033, 0.0030, 0.0027, 0.0021, 0.0026, 0.0022, 0.0015,\n",
    "    0.0017, 0.0014, 0.0016, 0.0018, 0.0019, 0.0014, 0.0014, 0.0013, 0.0013, 0.0015,\n",
    "    0.0013, 0.0013, 0.0013, 0.0015, 0.0013, 0.0013, 0.0013, 0.0013, 0.0013, 0.0013\n",
    "]\n",
    "\n",
    "# Plot\n",
    "plt.figure(figsize=(8, 5))\n",
    "plt.plot(epochs, train_loss, label='Train Loss', color='blue', marker='o')\n",
    "plt.plot(epochs, val_loss, label='Test Loss', color='orange', marker='s')\n",
    "plt.xlabel('Epoch')\n",
    "plt.ylabel('Loss')\n",
    "plt.title('Train vs Validation Loss Curve')\n",
    "plt.grid(True)\n",
    "plt.xticks(epochs)\n",
    "plt.legend()\n",
    "plt.tight_layout()\n",
    "\n",
    "# Save to file\n",
    "plt.savefig('train_test_loss.png', dpi=600)\n",
    "plt.show()  # optional if you want to view it"
   ]
  },
  {
   "cell_type": "markdown",
   "id": "9a8ff42f-c90f-4e9f-983b-b6a4e0b0b177",
   "metadata": {},
   "source": [
    "# Saving model"
   ]
  },
  {
   "cell_type": "code",
   "execution_count": 17,
   "id": "fe976dd7-364d-4846-9cd5-94be772dd19a",
   "metadata": {},
   "outputs": [
    {
     "name": "stdout",
     "output_type": "stream",
     "text": [
      "Saving model to: carla_models\\model_checkpoint_v7.pth\n"
     ]
    }
   ],
   "source": [
    "from pathlib import Path\n",
    "\n",
    "# Create models directory (if it doesn't already exist), see: https://docs.python.org/3/library/pathlib.html#pathlib.Path.mkdir\n",
    "MODEL_PATH = Path(\"carla_models\")\n",
    "MODEL_PATH.mkdir(parents=True, exist_ok=True)\n",
    "\n",
    "# Create model save path\n",
    "MODEL_NAME = \"model_checkpoint_v7.pth\"\n",
    "MODEL_SAVE_PATH = MODEL_PATH / MODEL_NAME\n",
    "\n",
    "# Save the model state dict\n",
    "print(f\"Saving model to: {MODEL_SAVE_PATH}\")\n",
    "torch.save(obj=model.state_dict(), # only saving the state_dict() only saves the learned parameters\n",
    "           f=MODEL_SAVE_PATH)"
   ]
  },
  {
   "cell_type": "raw",
   "id": "d284b792-4f3b-4269-b130-6831f651e195",
   "metadata": {},
   "source": [
    "file_name = 'carla_model'\n",
    "state = {'net': model.state_dict()}\n",
    "\n",
    "if not os.path.isdir('model_checkpoint'):\n",
    "    os.mkdir('model_checkpoint')\n",
    "torch.save(state, './model_checkpoint/' + file_name)\n",
    "print('Model Saved!')"
   ]
  },
  {
   "cell_type": "code",
   "execution_count": null,
   "id": "903a57e4-8f43-4365-bccb-7ea7f0e118de",
   "metadata": {},
   "outputs": [],
   "source": []
  }
 ],
 "metadata": {
  "kernelspec": {
   "display_name": "Python 3 (ipykernel)",
   "language": "python",
   "name": "python3"
  },
  "language_info": {
   "codemirror_mode": {
    "name": "ipython",
    "version": 3
   },
   "file_extension": ".py",
   "mimetype": "text/x-python",
   "name": "python",
   "nbconvert_exporter": "python",
   "pygments_lexer": "ipython3",
   "version": "3.8.19"
  }
 },
 "nbformat": 4,
 "nbformat_minor": 5
}
